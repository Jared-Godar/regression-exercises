{
 "cells": [
  {
   "cell_type": "markdown",
   "id": "f225ae55",
   "metadata": {},
   "source": [
    "<h2 id=\"exercises\">Exercises</h2>\n",
    "<p>Do you work for this exercise in either a jupyter notebook named <code>evaluate</code> within your <code>regression-exercises</code> repository. By the end of this exercise you will also create a python script named <code>evaluate</code>, so the overall deliverables for this exercise are the python script and jupyter notebook both with the name <code>evaluate</code> within your <code>regression-exercises</code> repo.</p>\n",
    "<ol>\n",
    "<li>\n",
    "<p>Load the <code>tips</code> dataset from either <code>pydataset</code> or <code>seaborn</code>.</p>\n",
    "</li>\n",
    "<li>\n",
    "<p>Fit a linear regression model (ordinary least squares) and compute yhat, predictions of tip using total_bill. </p>\n",
    "<p>Here is some sample code to get you started:</p>\n",
    "<div class=\"highlight\"><pre><span></span><span class=\"kn\">from</span> <span class=\"nn\">sklearn.linear_model</span> <span class=\"kn\">import</span> <span class=\"n\">LinearRegression</span>\n",
    "\n",
    "<span class=\"c1\"># assuming X and y are already defined</span>\n",
    "<span class=\"n\">model</span> <span class=\"o\">=</span> <span class=\"n\">LinearRegression</span><span class=\"p\">()</span><span class=\"o\">.</span><span class=\"n\">fit</span><span class=\"p\">(</span><span class=\"n\">X</span><span class=\"p\">,</span> <span class=\"n\">y</span><span class=\"p\">)</span>\n",
    "<span class=\"n\">predictions</span> <span class=\"o\">=</span> <span class=\"n\">model</span><span class=\"o\">.</span><span class=\"n\">predict</span><span class=\"p\">(</span><span class=\"n\">X</span><span class=\"p\">)</span>\n",
    "</pre></div>\n",
    "\n",
    "<p>Modify and add to the code above as necessary for it to work with the tips dataset.</p>\n",
    "</li>\n",
    "<li>\n",
    "<p>Plot the residuals for the linear regression model that you made.</p>\n",
    "</li>\n",
    "<li>\n",
    "<p>Calculate the sum of squared errors, explained sum of squares, total sum of squares, mean squared error, and root mean squared error for your model.</p>\n",
    "</li>\n",
    "<li>\n",
    "<p>Calculate the sum of squared errors, mean squared error, and root mean squared error for the baseline model (i.e. a model that always predicts the average tip amount).</p>\n",
    "</li>\n",
    "<li>\n",
    "<p>Write python code that compares the sum of squared errors for your model against the sum of squared errors for the baseline model and outputs whether or not your model performs better than the baseline model.</p>\n",
    "</li>\n",
    "<li>\n",
    "<p>What is the amount of variance explained in your model?</p>\n",
    "</li>\n",
    "<li>\n",
    "<p>Is your model better than the baseline model?</p>\n",
    "</li>\n",
    "<li>\n",
    "<p>Create a file named <code>evaluate.py</code> that contains the following functions.</p>\n",
    "<ul>\n",
    "<li><code>plot_residuals(y, yhat)</code>: creates a residual plot</li>\n",
    "<li><code>regression_errors(y, yhat)</code>: returns the following values:<ul>\n",
    "<li>sum of squared errors (SSE)</li>\n",
    "<li>explained sum of squares (ESS)</li>\n",
    "<li>total sum of squares (TSS)</li>\n",
    "<li>mean squared error (MSE)</li>\n",
    "<li>root mean squared error (RMSE)</li>\n",
    "</ul>\n",
    "</li>\n",
    "<li><code>baseline_mean_errors(y)</code>: computes the SSE, MSE, and RMSE for the baseline model</li>\n",
    "<li><code>better_than_baseline(y, yhat)</code>: returns true if your model performs better than the baseline, otherwise false</li>\n",
    "</ul>\n",
    "</li>\n",
    "<li>\n",
    "<p>Load the <code>mpg</code> dataset and fit a model that predicts highway mileage based on engine displacement. Take a look at all the regression evaluation metrics, and determine whether this model is better than the baseline model. Use the functions from your <code>evaluate.py</code> to help accomplish this.</p>\n",
    "</li>\n",
    "</ol>\n",
    "                \n",
    "                  "
   ]
  },
  {
   "cell_type": "code",
   "execution_count": null,
   "id": "a87d8b3f",
   "metadata": {},
   "outputs": [],
   "source": []
  }
 ],
 "metadata": {
  "kernelspec": {
   "display_name": "Python 3",
   "language": "python",
   "name": "python3"
  },
  "language_info": {
   "codemirror_mode": {
    "name": "ipython",
    "version": 3
   },
   "file_extension": ".py",
   "mimetype": "text/x-python",
   "name": "python",
   "nbconvert_exporter": "python",
   "pygments_lexer": "ipython3",
   "version": "3.8.8"
  }
 },
 "nbformat": 4,
 "nbformat_minor": 5
}
