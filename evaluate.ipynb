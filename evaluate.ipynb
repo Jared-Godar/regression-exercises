{
 "cells": [
  {
   "cell_type": "markdown",
   "id": "f225ae55",
   "metadata": {},
   "source": [
    "<h2 id=\"exercises\">Exercises</h2>\n",
    "<p>Do you work for this exercise in either a jupyter notebook named <code>evaluate</code> within your <code>regression-exercises</code> repository. By the end of this exercise you will also create a python script named <code>evaluate</code>, so the overall deliverables for this exercise are the python script and jupyter notebook both with the name <code>evaluate</code> within your <code>regression-exercises</code> repo.</p>\n",
    "\n"
   ]
  },
  {
   "cell_type": "code",
   "execution_count": 1,
   "id": "a60ddbdb",
   "metadata": {},
   "outputs": [],
   "source": [
    "import pandas as pd\n",
    "import numpy as np\n",
    "\n",
    "import viz\n",
    "import seaborn as sns\n",
    "import matplotlib.pyplot as plt\n",
    "\n",
    "from sklearn.linear_model import LinearRegression\n",
    "\n",
    "from scipy import stats\n",
    "from sklearn.metrics import mean_squared_error, r2_score, explained_variance_score\n",
    "\n",
    "from sklearn.linear_model import LinearRegression\n",
    "from sklearn.feature_selection import f_regression \n",
    "from math import sqrt\n",
    "import matplotlib.pyplot as plt\n",
    "import warnings\n",
    "warnings.filterwarnings('ignore')\n",
    "\n",
    "from sklearn.metrics import mean_squared_error\n",
    "\n",
    "\n"
   ]
  },
  {
   "cell_type": "markdown",
   "id": "df522402",
   "metadata": {},
   "source": [
    "1. Load the <code>tips</code> dataset from either <code>pydataset</code> or <code>seaborn</code>.\n"
   ]
  },
  {
   "cell_type": "code",
   "execution_count": 2,
   "id": "1bdda064",
   "metadata": {},
   "outputs": [],
   "source": [
    "tips = sns.load_dataset('tips')\n"
   ]
  },
  {
   "cell_type": "code",
   "execution_count": 3,
   "id": "6b3eb306",
   "metadata": {},
   "outputs": [
    {
     "data": {
      "text/html": [
       "<div>\n",
       "<style scoped>\n",
       "    .dataframe tbody tr th:only-of-type {\n",
       "        vertical-align: middle;\n",
       "    }\n",
       "\n",
       "    .dataframe tbody tr th {\n",
       "        vertical-align: top;\n",
       "    }\n",
       "\n",
       "    .dataframe thead th {\n",
       "        text-align: right;\n",
       "    }\n",
       "</style>\n",
       "<table border=\"1\" class=\"dataframe\">\n",
       "  <thead>\n",
       "    <tr style=\"text-align: right;\">\n",
       "      <th></th>\n",
       "      <th>total_bill</th>\n",
       "      <th>tip</th>\n",
       "      <th>sex</th>\n",
       "      <th>smoker</th>\n",
       "      <th>day</th>\n",
       "      <th>time</th>\n",
       "      <th>size</th>\n",
       "    </tr>\n",
       "  </thead>\n",
       "  <tbody>\n",
       "    <tr>\n",
       "      <th>0</th>\n",
       "      <td>16.99</td>\n",
       "      <td>1.01</td>\n",
       "      <td>Female</td>\n",
       "      <td>No</td>\n",
       "      <td>Sun</td>\n",
       "      <td>Dinner</td>\n",
       "      <td>2</td>\n",
       "    </tr>\n",
       "    <tr>\n",
       "      <th>1</th>\n",
       "      <td>10.34</td>\n",
       "      <td>1.66</td>\n",
       "      <td>Male</td>\n",
       "      <td>No</td>\n",
       "      <td>Sun</td>\n",
       "      <td>Dinner</td>\n",
       "      <td>3</td>\n",
       "    </tr>\n",
       "    <tr>\n",
       "      <th>2</th>\n",
       "      <td>21.01</td>\n",
       "      <td>3.50</td>\n",
       "      <td>Male</td>\n",
       "      <td>No</td>\n",
       "      <td>Sun</td>\n",
       "      <td>Dinner</td>\n",
       "      <td>3</td>\n",
       "    </tr>\n",
       "    <tr>\n",
       "      <th>3</th>\n",
       "      <td>23.68</td>\n",
       "      <td>3.31</td>\n",
       "      <td>Male</td>\n",
       "      <td>No</td>\n",
       "      <td>Sun</td>\n",
       "      <td>Dinner</td>\n",
       "      <td>2</td>\n",
       "    </tr>\n",
       "    <tr>\n",
       "      <th>4</th>\n",
       "      <td>24.59</td>\n",
       "      <td>3.61</td>\n",
       "      <td>Female</td>\n",
       "      <td>No</td>\n",
       "      <td>Sun</td>\n",
       "      <td>Dinner</td>\n",
       "      <td>4</td>\n",
       "    </tr>\n",
       "  </tbody>\n",
       "</table>\n",
       "</div>"
      ],
      "text/plain": [
       "   total_bill   tip     sex smoker  day    time  size\n",
       "0       16.99  1.01  Female     No  Sun  Dinner     2\n",
       "1       10.34  1.66    Male     No  Sun  Dinner     3\n",
       "2       21.01  3.50    Male     No  Sun  Dinner     3\n",
       "3       23.68  3.31    Male     No  Sun  Dinner     2\n",
       "4       24.59  3.61  Female     No  Sun  Dinner     4"
      ]
     },
     "execution_count": 3,
     "metadata": {},
     "output_type": "execute_result"
    }
   ],
   "source": [
    "tips.head()"
   ]
  },
  {
   "cell_type": "markdown",
   "id": "7da1473c",
   "metadata": {},
   "source": [
    "2. Fit a linear regression model (ordinary least squares) and compute yhat, predictions of tip using total_bill.\n",
    "\n",
    "Here is some sample code to get you started:\n",
    "\n",
    "<div class=\"highlight\"><pre><span></span><span class=\"kn\">from</span> <span class=\"nn\">sklearn.linear_model</span> <span class=\"kn\">import</span> <span class=\"n\">LinearRegression</span>\n",
    "\n",
    "<span class=\"c1\"># assuming X and y are already defined</span>\n",
    "<span class=\"n\">model</span> <span class=\"o\">=</span> <span class=\"n\">LinearRegression</span><span class=\"p\">()</span><span class=\"o\">.</span><span class=\"n\">fit</span><span class=\"p\">(</span><span class=\"n\">X</span><span class=\"p\">,</span> <span class=\"n\">y</span><span class=\"p\">)</span>\n",
    "<span class=\"n\">predictions</span> <span class=\"o\">=</span> <span class=\"n\">model</span><span class=\"o\">.</span><span class=\"n\">predict</span><span class=\"p\">(</span><span class=\"n\">X</span><span class=\"p\">)</span>\n",
    "</pre></div>\n",
    "\n",
    "<p>Modify and add to the code above as necessary for it to work with the tips dataset.</p>\n"
   ]
  },
  {
   "cell_type": "code",
   "execution_count": 4,
   "id": "910aedca",
   "metadata": {},
   "outputs": [
    {
     "data": {
      "text/html": [
       "<div>\n",
       "<style scoped>\n",
       "    .dataframe tbody tr th:only-of-type {\n",
       "        vertical-align: middle;\n",
       "    }\n",
       "\n",
       "    .dataframe tbody tr th {\n",
       "        vertical-align: top;\n",
       "    }\n",
       "\n",
       "    .dataframe thead th {\n",
       "        text-align: right;\n",
       "    }\n",
       "</style>\n",
       "<table border=\"1\" class=\"dataframe\">\n",
       "  <thead>\n",
       "    <tr style=\"text-align: right;\">\n",
       "      <th></th>\n",
       "      <th>total_bill</th>\n",
       "      <th>tip</th>\n",
       "      <th>sex</th>\n",
       "      <th>smoker</th>\n",
       "      <th>day</th>\n",
       "      <th>time</th>\n",
       "      <th>size</th>\n",
       "      <th>yhat</th>\n",
       "    </tr>\n",
       "  </thead>\n",
       "  <tbody>\n",
       "    <tr>\n",
       "      <th>0</th>\n",
       "      <td>16.99</td>\n",
       "      <td>1.01</td>\n",
       "      <td>Female</td>\n",
       "      <td>No</td>\n",
       "      <td>Sun</td>\n",
       "      <td>Dinner</td>\n",
       "      <td>2</td>\n",
       "      <td>2.704636</td>\n",
       "    </tr>\n",
       "    <tr>\n",
       "      <th>1</th>\n",
       "      <td>10.34</td>\n",
       "      <td>1.66</td>\n",
       "      <td>Male</td>\n",
       "      <td>No</td>\n",
       "      <td>Sun</td>\n",
       "      <td>Dinner</td>\n",
       "      <td>3</td>\n",
       "      <td>2.006223</td>\n",
       "    </tr>\n",
       "    <tr>\n",
       "      <th>2</th>\n",
       "      <td>21.01</td>\n",
       "      <td>3.50</td>\n",
       "      <td>Male</td>\n",
       "      <td>No</td>\n",
       "      <td>Sun</td>\n",
       "      <td>Dinner</td>\n",
       "      <td>3</td>\n",
       "      <td>3.126835</td>\n",
       "    </tr>\n",
       "    <tr>\n",
       "      <th>3</th>\n",
       "      <td>23.68</td>\n",
       "      <td>3.31</td>\n",
       "      <td>Male</td>\n",
       "      <td>No</td>\n",
       "      <td>Sun</td>\n",
       "      <td>Dinner</td>\n",
       "      <td>2</td>\n",
       "      <td>3.407250</td>\n",
       "    </tr>\n",
       "    <tr>\n",
       "      <th>4</th>\n",
       "      <td>24.59</td>\n",
       "      <td>3.61</td>\n",
       "      <td>Female</td>\n",
       "      <td>No</td>\n",
       "      <td>Sun</td>\n",
       "      <td>Dinner</td>\n",
       "      <td>4</td>\n",
       "      <td>3.502822</td>\n",
       "    </tr>\n",
       "  </tbody>\n",
       "</table>\n",
       "</div>"
      ],
      "text/plain": [
       "   total_bill   tip     sex smoker  day    time  size      yhat\n",
       "0       16.99  1.01  Female     No  Sun  Dinner     2  2.704636\n",
       "1       10.34  1.66    Male     No  Sun  Dinner     3  2.006223\n",
       "2       21.01  3.50    Male     No  Sun  Dinner     3  3.126835\n",
       "3       23.68  3.31    Male     No  Sun  Dinner     2  3.407250\n",
       "4       24.59  3.61  Female     No  Sun  Dinner     4  3.502822"
      ]
     },
     "execution_count": 4,
     "metadata": {},
     "output_type": "execute_result"
    }
   ],
   "source": [
    "model = LinearRegression().fit(tips[['total_bill']], tips.tip)\n",
    "tips['yhat'] = model.predict(tips[['total_bill']])\n",
    "\n",
    "tips.head()"
   ]
  },
  {
   "cell_type": "code",
   "execution_count": 5,
   "id": "ea07c3d9",
   "metadata": {},
   "outputs": [
    {
     "data": {
      "image/png": "[encoded data removed]",
      "text/plain": [
       "<Figure size 360x360 with 1 Axes>"
      ]
     },
     "metadata": {
      "needs_background": "light"
     },
     "output_type": "display_data"
    }
   ],
   "source": [
    "sns.lmplot(x=\"total_bill\", y=\"tip\", data=tips, line_kws={'color': 'red'})\n",
    "plt.show()"
   ]
  },
  {
   "cell_type": "code",
   "execution_count": 20,
   "id": "0e474009",
   "metadata": {},
   "outputs": [
    {
     "data": {
      "text/html": [
       "<div>\n",
       "<style scoped>\n",
       "    .dataframe tbody tr th:only-of-type {\n",
       "        vertical-align: middle;\n",
       "    }\n",
       "\n",
       "    .dataframe tbody tr th {\n",
       "        vertical-align: top;\n",
       "    }\n",
       "\n",
       "    .dataframe thead th {\n",
       "        text-align: right;\n",
       "    }\n",
       "</style>\n",
       "<table border=\"1\" class=\"dataframe\">\n",
       "  <thead>\n",
       "    <tr style=\"text-align: right;\">\n",
       "      <th></th>\n",
       "      <th>total_bill</th>\n",
       "      <th>tip</th>\n",
       "      <th>sex</th>\n",
       "      <th>smoker</th>\n",
       "      <th>day</th>\n",
       "      <th>time</th>\n",
       "      <th>size</th>\n",
       "      <th>predictions</th>\n",
       "      <th>yhat</th>\n",
       "      <th>yhat_baseline</th>\n",
       "    </tr>\n",
       "  </thead>\n",
       "  <tbody>\n",
       "    <tr>\n",
       "      <th>0</th>\n",
       "      <td>16.99</td>\n",
       "      <td>1.01</td>\n",
       "      <td>Female</td>\n",
       "      <td>No</td>\n",
       "      <td>Sun</td>\n",
       "      <td>Dinner</td>\n",
       "      <td>2</td>\n",
       "      <td>2.704636</td>\n",
       "      <td>2.704636</td>\n",
       "      <td>2.998279</td>\n",
       "    </tr>\n",
       "    <tr>\n",
       "      <th>1</th>\n",
       "      <td>10.34</td>\n",
       "      <td>1.66</td>\n",
       "      <td>Male</td>\n",
       "      <td>No</td>\n",
       "      <td>Sun</td>\n",
       "      <td>Dinner</td>\n",
       "      <td>3</td>\n",
       "      <td>2.006223</td>\n",
       "      <td>2.006223</td>\n",
       "      <td>2.998279</td>\n",
       "    </tr>\n",
       "    <tr>\n",
       "      <th>2</th>\n",
       "      <td>21.01</td>\n",
       "      <td>3.50</td>\n",
       "      <td>Male</td>\n",
       "      <td>No</td>\n",
       "      <td>Sun</td>\n",
       "      <td>Dinner</td>\n",
       "      <td>3</td>\n",
       "      <td>3.126835</td>\n",
       "      <td>3.126835</td>\n",
       "      <td>2.998279</td>\n",
       "    </tr>\n",
       "  </tbody>\n",
       "</table>\n",
       "</div>"
      ],
      "text/plain": [
       "   total_bill   tip     sex smoker  day    time  size  predictions      yhat  \\\n",
       "0       16.99  1.01  Female     No  Sun  Dinner     2     2.704636  2.704636   \n",
       "1       10.34  1.66    Male     No  Sun  Dinner     3     2.006223  2.006223   \n",
       "2       21.01  3.50    Male     No  Sun  Dinner     3     3.126835  3.126835   \n",
       "\n",
       "   yhat_baseline  \n",
       "0       2.998279  \n",
       "1       2.998279  \n",
       "2       2.998279  "
      ]
     },
     "execution_count": 20,
     "metadata": {},
     "output_type": "execute_result"
    }
   ],
   "source": [
    "tips['yhat_baseline'] = tips['tip'].mean()\n",
    "tips.head(3)"
   ]
  },
  {
   "cell_type": "markdown",
   "id": "d2fabe3b",
   "metadata": {},
   "source": [
    "3. Plot the residuals for the linear regression model that you made.\n"
   ]
  },
  {
   "cell_type": "code",
   "execution_count": 45,
   "id": "4800656f",
   "metadata": {},
   "outputs": [
    {
     "data": {
      "text/plain": [
       "<AxesSubplot:xlabel='total_bill', ylabel='tip'>"
      ]
     },
     "execution_count": 45,
     "metadata": {},
     "output_type": "execute_result"
    },
    {
     "data": {
      "image/png": "[encoded data removed]",
      "text/plain": [
       "<Figure size 432x288 with 1 Axes>"
      ]
     },
     "metadata": {
      "needs_background": "light"
     },
     "output_type": "display_data"
    }
   ],
   "source": [
    "sns.scatterplot(x='total_bill', y = 'tip', data = tips)\n",
    "sns.lineplot(x='total_bill', y='yhat_baseline', data = tips)\n",
    "sns.lineplot(x='total_bill', y='yhat', data = tips)"
   ]
  },
  {
   "cell_type": "code",
   "execution_count": 46,
   "id": "36f97359",
   "metadata": {},
   "outputs": [],
   "source": [
    "# compute residuals\n",
    "tips['residual'] = tips['tip'] - tips['yhat']\n",
    "tips['residual_baseline'] = tips['tip'] - tips['yhat_baseline']"
   ]
  },
  {
   "cell_type": "code",
   "execution_count": 22,
   "id": "4ba29ada",
   "metadata": {},
   "outputs": [
    {
     "data": {
      "text/html": [
       "<div>\n",
       "<style scoped>\n",
       "    .dataframe tbody tr th:only-of-type {\n",
       "        vertical-align: middle;\n",
       "    }\n",
       "\n",
       "    .dataframe tbody tr th {\n",
       "        vertical-align: top;\n",
       "    }\n",
       "\n",
       "    .dataframe thead th {\n",
       "        text-align: right;\n",
       "    }\n",
       "</style>\n",
       "<table border=\"1\" class=\"dataframe\">\n",
       "  <thead>\n",
       "    <tr style=\"text-align: right;\">\n",
       "      <th></th>\n",
       "      <th>total_bill</th>\n",
       "      <th>tip</th>\n",
       "      <th>sex</th>\n",
       "      <th>smoker</th>\n",
       "      <th>day</th>\n",
       "      <th>time</th>\n",
       "      <th>size</th>\n",
       "      <th>predictions</th>\n",
       "      <th>yhat</th>\n",
       "      <th>yhat_baseline</th>\n",
       "      <th>residual</th>\n",
       "      <th>residual_baseline</th>\n",
       "    </tr>\n",
       "  </thead>\n",
       "  <tbody>\n",
       "    <tr>\n",
       "      <th>0</th>\n",
       "      <td>16.99</td>\n",
       "      <td>1.01</td>\n",
       "      <td>Female</td>\n",
       "      <td>No</td>\n",
       "      <td>Sun</td>\n",
       "      <td>Dinner</td>\n",
       "      <td>2</td>\n",
       "      <td>2.704636</td>\n",
       "      <td>2.704636</td>\n",
       "      <td>2.998279</td>\n",
       "      <td>1.694636</td>\n",
       "      <td>1.988279</td>\n",
       "    </tr>\n",
       "    <tr>\n",
       "      <th>1</th>\n",
       "      <td>10.34</td>\n",
       "      <td>1.66</td>\n",
       "      <td>Male</td>\n",
       "      <td>No</td>\n",
       "      <td>Sun</td>\n",
       "      <td>Dinner</td>\n",
       "      <td>3</td>\n",
       "      <td>2.006223</td>\n",
       "      <td>2.006223</td>\n",
       "      <td>2.998279</td>\n",
       "      <td>0.346223</td>\n",
       "      <td>1.338279</td>\n",
       "    </tr>\n",
       "    <tr>\n",
       "      <th>2</th>\n",
       "      <td>21.01</td>\n",
       "      <td>3.50</td>\n",
       "      <td>Male</td>\n",
       "      <td>No</td>\n",
       "      <td>Sun</td>\n",
       "      <td>Dinner</td>\n",
       "      <td>3</td>\n",
       "      <td>3.126835</td>\n",
       "      <td>3.126835</td>\n",
       "      <td>2.998279</td>\n",
       "      <td>-0.373165</td>\n",
       "      <td>-0.501721</td>\n",
       "    </tr>\n",
       "    <tr>\n",
       "      <th>3</th>\n",
       "      <td>23.68</td>\n",
       "      <td>3.31</td>\n",
       "      <td>Male</td>\n",
       "      <td>No</td>\n",
       "      <td>Sun</td>\n",
       "      <td>Dinner</td>\n",
       "      <td>2</td>\n",
       "      <td>3.407250</td>\n",
       "      <td>3.407250</td>\n",
       "      <td>2.998279</td>\n",
       "      <td>0.097250</td>\n",
       "      <td>-0.311721</td>\n",
       "    </tr>\n",
       "    <tr>\n",
       "      <th>4</th>\n",
       "      <td>24.59</td>\n",
       "      <td>3.61</td>\n",
       "      <td>Female</td>\n",
       "      <td>No</td>\n",
       "      <td>Sun</td>\n",
       "      <td>Dinner</td>\n",
       "      <td>4</td>\n",
       "      <td>3.502822</td>\n",
       "      <td>3.502822</td>\n",
       "      <td>2.998279</td>\n",
       "      <td>-0.107178</td>\n",
       "      <td>-0.611721</td>\n",
       "    </tr>\n",
       "  </tbody>\n",
       "</table>\n",
       "</div>"
      ],
      "text/plain": [
       "   total_bill   tip     sex smoker  day    time  size  predictions      yhat  \\\n",
       "0       16.99  1.01  Female     No  Sun  Dinner     2     2.704636  2.704636   \n",
       "1       10.34  1.66    Male     No  Sun  Dinner     3     2.006223  2.006223   \n",
       "2       21.01  3.50    Male     No  Sun  Dinner     3     3.126835  3.126835   \n",
       "3       23.68  3.31    Male     No  Sun  Dinner     2     3.407250  3.407250   \n",
       "4       24.59  3.61  Female     No  Sun  Dinner     4     3.502822  3.502822   \n",
       "\n",
       "   yhat_baseline  residual  residual_baseline  \n",
       "0       2.998279  1.694636           1.988279  \n",
       "1       2.998279  0.346223           1.338279  \n",
       "2       2.998279 -0.373165          -0.501721  \n",
       "3       2.998279  0.097250          -0.311721  \n",
       "4       2.998279 -0.107178          -0.611721  "
      ]
     },
     "execution_count": 22,
     "metadata": {},
     "output_type": "execute_result"
    }
   ],
   "source": [
    "tips.head()"
   ]
  },
  {
   "cell_type": "code",
   "execution_count": 26,
   "id": "893eb405",
   "metadata": {},
   "outputs": [
    {
     "data": {
      "text/plain": [
       "<matplotlib.lines.Line2D at 0x7fafe9f9e100>"
      ]
     },
     "execution_count": 26,
     "metadata": {},
     "output_type": "execute_result"
    },
    {
     "data": {
      "image/png": "[encoded data removed]",
      "text/plain": [
       "<Figure size 432x288 with 1 Axes>"
      ]
     },
     "metadata": {
      "needs_background": "light"
     },
     "output_type": "display_data"
    }
   ],
   "source": [
    "graph = sns.scatterplot(data=tips, x='total_bill', y='residual')\n",
    "graph.axhline(0)"
   ]
  },
  {
   "cell_type": "code",
   "execution_count": 47,
   "id": "25498123",
   "metadata": {},
   "outputs": [
    {
     "data": {
      "text/plain": [
       "<matplotlib.lines.Line2D at 0x7fafa00a0760>"
      ]
     },
     "execution_count": 47,
     "metadata": {},
     "output_type": "execute_result"
    },
    {
     "data": {
      "image/png": "[encoded data removed]",
      "text/plain": [
       "<Figure size 360x360 with 1 Axes>"
      ]
     },
     "metadata": {
      "needs_background": "light"
     },
     "output_type": "display_data"
    }
   ],
   "source": [
    "sns.relplot(x='total_bill', y='residual', data = tips)\n",
    "plt.axhline(0, ls =':')"
   ]
  },
  {
   "cell_type": "code",
   "execution_count": 49,
   "id": "7a73fb0d",
   "metadata": {},
   "outputs": [
    {
     "data": {
      "text/plain": [
       "<AxesSubplot:>"
      ]
     },
     "execution_count": 49,
     "metadata": {},
     "output_type": "execute_result"
    },
    {
     "data": {
      "image/png": "[encoded data removed]",
      "text/plain": [
       "<Figure size 432x288 with 1 Axes>"
      ]
     },
     "metadata": {
      "needs_background": "light"
     },
     "output_type": "display_data"
    }
   ],
   "source": [
    "tips.total_bill.hist()"
   ]
  },
  {
   "cell_type": "code",
   "execution_count": 50,
   "id": "0c6adc65",
   "metadata": {},
   "outputs": [
    {
     "data": {
      "text/plain": [
       "<AxesSubplot:>"
      ]
     },
     "execution_count": 50,
     "metadata": {},
     "output_type": "execute_result"
    },
    {
     "data": {
      "image/png": "[encoded data removed]",
      "text/plain": [
       "<Figure size 432x288 with 1 Axes>"
      ]
     },
     "metadata": {
      "needs_background": "light"
     },
     "output_type": "display_data"
    }
   ],
   "source": [
    "np.log(tips.total_bill).hist()"
   ]
  },
  {
   "cell_type": "markdown",
   "id": "1c54af72",
   "metadata": {},
   "source": [
    "4. Calculate the sum of squared errors, explained sum of squares, total sum of squares, mean squared error, and root mean squared error for your model.\n"
   ]
  },
  {
   "cell_type": "code",
   "execution_count": 27,
   "id": "8cc5be17",
   "metadata": {},
   "outputs": [],
   "source": [
    "#SSE\n",
    "\n",
    "tips['residual^2'] = tips.residual ** 2\n",
    "\n",
    "tips['residual_baseline^2'] = tips.residual_baseline ** 2"
   ]
  },
  {
   "cell_type": "code",
   "execution_count": 30,
   "id": "d0fccc8c",
   "metadata": {},
   "outputs": [
    {
     "data": {
      "text/plain": [
       "252.788743850776"
      ]
     },
     "execution_count": 30,
     "metadata": {},
     "output_type": "execute_result"
    }
   ],
   "source": [
    "SSE = tips['residual^2'].sum()\n",
    "SSE"
   ]
  },
  {
   "cell_type": "code",
   "execution_count": 51,
   "id": "f8266519",
   "metadata": {},
   "outputs": [
    {
     "data": {
      "text/plain": [
       "465.2124770491804"
      ]
     },
     "execution_count": 51,
     "metadata": {},
     "output_type": "execute_result"
    }
   ],
   "source": [
    "SSE_baseline =tips['residual_baseline^2'].sum()\n",
    "SSE_baseline"
   ]
  },
  {
   "cell_type": "code",
   "execution_count": 32,
   "id": "93bd34a9",
   "metadata": {},
   "outputs": [
    {
     "data": {
      "text/plain": [
       "1.036019442011377"
      ]
     },
     "execution_count": 32,
     "metadata": {},
     "output_type": "execute_result"
    }
   ],
   "source": [
    "MSE = SSE / len(tips)\n",
    "MSE"
   ]
  },
  {
   "cell_type": "code",
   "execution_count": 52,
   "id": "071f2975",
   "metadata": {},
   "outputs": [
    {
     "data": {
      "text/plain": [
       "1.906608512496641"
      ]
     },
     "execution_count": 52,
     "metadata": {},
     "output_type": "execute_result"
    }
   ],
   "source": [
    "MSE_baseline = SSE_baseline / len(tips)\n",
    "MSE_baseline"
   ]
  },
  {
   "cell_type": "code",
   "execution_count": 33,
   "id": "232ab3de",
   "metadata": {},
   "outputs": [
    {
     "data": {
      "text/plain": [
       "1.0178504025697377"
      ]
     },
     "execution_count": 33,
     "metadata": {},
     "output_type": "execute_result"
    }
   ],
   "source": [
    "RMSE = sqrt(MSE)\n",
    "RMSE"
   ]
  },
  {
   "cell_type": "code",
   "execution_count": 53,
   "id": "6cb52f18",
   "metadata": {},
   "outputs": [
    {
     "data": {
      "text/plain": [
       "1.3807999538298954"
      ]
     },
     "execution_count": 53,
     "metadata": {},
     "output_type": "execute_result"
    }
   ],
   "source": [
    "RMSE_baseline = sqrt(MSE_baseline)\n",
    "RMSE_baseline"
   ]
  },
  {
   "cell_type": "code",
   "execution_count": 38,
   "id": "67eadc3f",
   "metadata": {},
   "outputs": [
    {
     "data": {
      "text/plain": [
       "(252.788743850776, 1.036019442011377, 1.0178504025697377)"
      ]
     },
     "execution_count": 38,
     "metadata": {},
     "output_type": "execute_result"
    }
   ],
   "source": [
    "from sklearn.metrics import mean_squared_error\n",
    "\n",
    "SSE2 = mean_squared_error(tips.tip, tips.yhat)*len(tips)\n",
    "MSE2 = mean_squared_error(tips.tip, tips.yhat)\n",
    "RMSE2 = sqrt(mean_squared_error(tips.tip, tips.yhat))\n",
    "\n",
    "\n",
    "SSE2, MSE2, RMSE2\n"
   ]
  },
  {
   "cell_type": "code",
   "execution_count": 54,
   "id": "4c06e4ce",
   "metadata": {},
   "outputs": [
    {
     "data": {
      "text/plain": [
       "(465.2124770491804, 1.906608512496641, 1.3807999538298954)"
      ]
     },
     "execution_count": 54,
     "metadata": {},
     "output_type": "execute_result"
    }
   ],
   "source": [
    "SSEb2 = mean_squared_error(tips.tip, tips.yhat_baseline)*len(tips)\n",
    "MSEb2 = mean_squared_error(tips.tip, tips.yhat_baseline)\n",
    "RMSEb2 = sqrt(mean_squared_error(tips.tip, tips.yhat_baseline))\n",
    "\n",
    "\n",
    "SSEb2, MSEb2, RMSEb2\n"
   ]
  },
  {
   "cell_type": "markdown",
   "id": "11de2bed",
   "metadata": {},
   "source": [
    "5. Calculate the sum of squared errors, mean squared error, and root mean squared error for the baseline model (i.e. a model that always predicts the average tip amount).\n"
   ]
  },
  {
   "cell_type": "code",
   "execution_count": 39,
   "id": "913b3bce",
   "metadata": {},
   "outputs": [
    {
     "data": {
      "text/html": [
       "<div>\n",
       "<style scoped>\n",
       "    .dataframe tbody tr th:only-of-type {\n",
       "        vertical-align: middle;\n",
       "    }\n",
       "\n",
       "    .dataframe tbody tr th {\n",
       "        vertical-align: top;\n",
       "    }\n",
       "\n",
       "    .dataframe thead th {\n",
       "        text-align: right;\n",
       "    }\n",
       "</style>\n",
       "<table border=\"1\" class=\"dataframe\">\n",
       "  <thead>\n",
       "    <tr style=\"text-align: right;\">\n",
       "      <th></th>\n",
       "      <th>total_bill</th>\n",
       "      <th>tip</th>\n",
       "      <th>sex</th>\n",
       "      <th>smoker</th>\n",
       "      <th>day</th>\n",
       "      <th>time</th>\n",
       "      <th>size</th>\n",
       "      <th>predictions</th>\n",
       "      <th>yhat</th>\n",
       "      <th>yhat_baseline</th>\n",
       "      <th>residual</th>\n",
       "      <th>residual_baseline</th>\n",
       "      <th>residual^2</th>\n",
       "      <th>residual_baseline^2</th>\n",
       "    </tr>\n",
       "  </thead>\n",
       "  <tbody>\n",
       "    <tr>\n",
       "      <th>0</th>\n",
       "      <td>16.99</td>\n",
       "      <td>1.01</td>\n",
       "      <td>Female</td>\n",
       "      <td>No</td>\n",
       "      <td>Sun</td>\n",
       "      <td>Dinner</td>\n",
       "      <td>2</td>\n",
       "      <td>2.704636</td>\n",
       "      <td>2.704636</td>\n",
       "      <td>2.998279</td>\n",
       "      <td>1.694636</td>\n",
       "      <td>1.988279</td>\n",
       "      <td>2.871792</td>\n",
       "      <td>3.953252</td>\n",
       "    </tr>\n",
       "    <tr>\n",
       "      <th>1</th>\n",
       "      <td>10.34</td>\n",
       "      <td>1.66</td>\n",
       "      <td>Male</td>\n",
       "      <td>No</td>\n",
       "      <td>Sun</td>\n",
       "      <td>Dinner</td>\n",
       "      <td>3</td>\n",
       "      <td>2.006223</td>\n",
       "      <td>2.006223</td>\n",
       "      <td>2.998279</td>\n",
       "      <td>0.346223</td>\n",
       "      <td>1.338279</td>\n",
       "      <td>0.119870</td>\n",
       "      <td>1.790990</td>\n",
       "    </tr>\n",
       "    <tr>\n",
       "      <th>2</th>\n",
       "      <td>21.01</td>\n",
       "      <td>3.50</td>\n",
       "      <td>Male</td>\n",
       "      <td>No</td>\n",
       "      <td>Sun</td>\n",
       "      <td>Dinner</td>\n",
       "      <td>3</td>\n",
       "      <td>3.126835</td>\n",
       "      <td>3.126835</td>\n",
       "      <td>2.998279</td>\n",
       "      <td>-0.373165</td>\n",
       "      <td>-0.501721</td>\n",
       "      <td>0.139252</td>\n",
       "      <td>0.251724</td>\n",
       "    </tr>\n",
       "    <tr>\n",
       "      <th>3</th>\n",
       "      <td>23.68</td>\n",
       "      <td>3.31</td>\n",
       "      <td>Male</td>\n",
       "      <td>No</td>\n",
       "      <td>Sun</td>\n",
       "      <td>Dinner</td>\n",
       "      <td>2</td>\n",
       "      <td>3.407250</td>\n",
       "      <td>3.407250</td>\n",
       "      <td>2.998279</td>\n",
       "      <td>0.097250</td>\n",
       "      <td>-0.311721</td>\n",
       "      <td>0.009458</td>\n",
       "      <td>0.097170</td>\n",
       "    </tr>\n",
       "    <tr>\n",
       "      <th>4</th>\n",
       "      <td>24.59</td>\n",
       "      <td>3.61</td>\n",
       "      <td>Female</td>\n",
       "      <td>No</td>\n",
       "      <td>Sun</td>\n",
       "      <td>Dinner</td>\n",
       "      <td>4</td>\n",
       "      <td>3.502822</td>\n",
       "      <td>3.502822</td>\n",
       "      <td>2.998279</td>\n",
       "      <td>-0.107178</td>\n",
       "      <td>-0.611721</td>\n",
       "      <td>0.011487</td>\n",
       "      <td>0.374203</td>\n",
       "    </tr>\n",
       "  </tbody>\n",
       "</table>\n",
       "</div>"
      ],
      "text/plain": [
       "   total_bill   tip     sex smoker  day    time  size  predictions      yhat  \\\n",
       "0       16.99  1.01  Female     No  Sun  Dinner     2     2.704636  2.704636   \n",
       "1       10.34  1.66    Male     No  Sun  Dinner     3     2.006223  2.006223   \n",
       "2       21.01  3.50    Male     No  Sun  Dinner     3     3.126835  3.126835   \n",
       "3       23.68  3.31    Male     No  Sun  Dinner     2     3.407250  3.407250   \n",
       "4       24.59  3.61  Female     No  Sun  Dinner     4     3.502822  3.502822   \n",
       "\n",
       "   yhat_baseline  residual  residual_baseline  residual^2  residual_baseline^2  \n",
       "0       2.998279  1.694636           1.988279    2.871792             3.953252  \n",
       "1       2.998279  0.346223           1.338279    0.119870             1.790990  \n",
       "2       2.998279 -0.373165          -0.501721    0.139252             0.251724  \n",
       "3       2.998279  0.097250          -0.311721    0.009458             0.097170  \n",
       "4       2.998279 -0.107178          -0.611721    0.011487             0.374203  "
      ]
     },
     "execution_count": 39,
     "metadata": {},
     "output_type": "execute_result"
    }
   ],
   "source": [
    "tips.head()"
   ]
  },
  {
   "cell_type": "code",
   "execution_count": 55,
   "id": "b5eb171b",
   "metadata": {},
   "outputs": [],
   "source": [
    "RMSE2_baseline = sqrt(mean_squared_error(tips.tip, tips.yhat_baseline))\n",
    "\n"
   ]
  },
  {
   "cell_type": "code",
   "execution_count": 56,
   "id": "3929dd15",
   "metadata": {},
   "outputs": [],
   "source": [
    "\n",
    "df_baseline_eval = pd.DataFrame(np.array(['SSE_baseline','MSE_baseline','RMSE_baseline']), columns=['metric'])\n"
   ]
  },
  {
   "cell_type": "code",
   "execution_count": 57,
   "id": "a0f88729",
   "metadata": {},
   "outputs": [
    {
     "data": {
      "text/html": [
       "<div>\n",
       "<style scoped>\n",
       "    .dataframe tbody tr th:only-of-type {\n",
       "        vertical-align: middle;\n",
       "    }\n",
       "\n",
       "    .dataframe tbody tr th {\n",
       "        vertical-align: top;\n",
       "    }\n",
       "\n",
       "    .dataframe thead th {\n",
       "        text-align: right;\n",
       "    }\n",
       "</style>\n",
       "<table border=\"1\" class=\"dataframe\">\n",
       "  <thead>\n",
       "    <tr style=\"text-align: right;\">\n",
       "      <th></th>\n",
       "      <th>metric</th>\n",
       "    </tr>\n",
       "  </thead>\n",
       "  <tbody>\n",
       "    <tr>\n",
       "      <th>0</th>\n",
       "      <td>SSE_baseline</td>\n",
       "    </tr>\n",
       "    <tr>\n",
       "      <th>1</th>\n",
       "      <td>MSE_baseline</td>\n",
       "    </tr>\n",
       "    <tr>\n",
       "      <th>2</th>\n",
       "      <td>RMSE_baseline</td>\n",
       "    </tr>\n",
       "  </tbody>\n",
       "</table>\n",
       "</div>"
      ],
      "text/plain": [
       "          metric\n",
       "0   SSE_baseline\n",
       "1   MSE_baseline\n",
       "2  RMSE_baseline"
      ]
     },
     "execution_count": 57,
     "metadata": {},
     "output_type": "execute_result"
    }
   ],
   "source": [
    "df_baseline_eval"
   ]
  },
  {
   "cell_type": "code",
   "execution_count": 58,
   "id": "ee87be9d",
   "metadata": {},
   "outputs": [],
   "source": [
    "\n",
    "df_baseline_eval['model_error'] = np.array([SSE_baseline, MSE_baseline, RMSE_baseline])\n"
   ]
  },
  {
   "cell_type": "markdown",
   "id": "8641e2aa",
   "metadata": {},
   "source": [
    "6. Write python code that compares the sum of squared errors for your model against the sum of squared errors for the baseline model and outputs whether or not your model performs better than the baseline model.\n"
   ]
  },
  {
   "cell_type": "code",
   "execution_count": null,
   "id": "b2edeba9",
   "metadata": {},
   "outputs": [],
   "source": []
  },
  {
   "cell_type": "markdown",
   "id": "5352f01b",
   "metadata": {},
   "source": [
    "7. What is the amount of variance explained in your model?\n"
   ]
  },
  {
   "cell_type": "code",
   "execution_count": 59,
   "id": "7081d7b2",
   "metadata": {},
   "outputs": [],
   "source": [
    "from sklearn.metrics import r2_score"
   ]
  },
  {
   "cell_type": "code",
   "execution_count": 61,
   "id": "32981907",
   "metadata": {},
   "outputs": [
    {
     "data": {
      "text/plain": [
       "0.45661658635167657"
      ]
     },
     "execution_count": 61,
     "metadata": {},
     "output_type": "execute_result"
    }
   ],
   "source": [
    "r2_score(tips.tip, tips.yhat)"
   ]
  },
  {
   "cell_type": "markdown",
   "id": "721d3671",
   "metadata": {},
   "source": [
    "8. Is your model better than the baseline model?\n"
   ]
  },
  {
   "cell_type": "code",
   "execution_count": null,
   "id": "b5ea3b9e",
   "metadata": {},
   "outputs": [],
   "source": []
  },
  {
   "cell_type": "markdown",
   "id": "2a780809",
   "metadata": {},
   "source": [
    "9. Create a file named <code>evaluate.py</code> that contains the following functions.</p>\n",
    "<ul>\n",
    "<li><code>plot_residuals(y, yhat)</code>: creates a residual plot</li>\n",
    "<li><code>regression_errors(y, yhat)</code>: returns the following values:<ul>\n",
    "<li>sum of squared errors (SSE)</li>\n",
    "<li>explained sum of squares (ESS)</li>\n",
    "<li>total sum of squares (TSS)</li>\n",
    "<li>mean squared error (MSE)</li>\n",
    "<li>root mean squared error (RMSE)</li>\n",
    "</ul>\n",
    "</li>\n",
    "<li><code>baseline_mean_errors(y)</code>: computes the SSE, MSE, and RMSE for the baseline model</li>\n",
    "<li><code>better_than_baseline(y, yhat)</code>: returns true if your model performs better than the baseline, otherwise false</li>\n",
    "</ul>\n",
    "</li>\n"
   ]
  },
  {
   "cell_type": "code",
   "execution_count": 62,
   "id": "547f6136",
   "metadata": {},
   "outputs": [],
   "source": [
    "def plot_residuals(actual, predicted):\n",
    "    residuals = actual - predictedplt.hlines(0, actual.min(), actual.max(), ls=':')\n",
    "    plt.scatter(actual, residuals)\n",
    "    plt.ylabel('residual')\n",
    "    plt.xlabel('actual')\n",
    "    plt.title('Actual v. Residual')\n",
    "    plt.show"
   ]
  },
  {
   "cell_type": "markdown",
   "id": "cc19a1dd",
   "metadata": {},
   "source": [
    "10. Load the <code>mpg</code> dataset and fit a model that predicts highway mileage based on engine displacement. Take a look at all the regression evaluation metrics, and determine whether this model is better than the baseline model. Use the functions from your <code>evaluate.py</code> to help accomplish this.\n",
    "                \n",
    "                  "
   ]
  },
  {
   "cell_type": "code",
   "execution_count": 64,
   "id": "a87d8b3f",
   "metadata": {},
   "outputs": [],
   "source": [
    "mpg = sns.load_dataset('mpg')\n"
   ]
  },
  {
   "cell_type": "code",
   "execution_count": 65,
   "id": "889e3316",
   "metadata": {},
   "outputs": [
    {
     "data": {
      "text/html": [
       "<div>\n",
       "<style scoped>\n",
       "    .dataframe tbody tr th:only-of-type {\n",
       "        vertical-align: middle;\n",
       "    }\n",
       "\n",
       "    .dataframe tbody tr th {\n",
       "        vertical-align: top;\n",
       "    }\n",
       "\n",
       "    .dataframe thead th {\n",
       "        text-align: right;\n",
       "    }\n",
       "</style>\n",
       "<table border=\"1\" class=\"dataframe\">\n",
       "  <thead>\n",
       "    <tr style=\"text-align: right;\">\n",
       "      <th></th>\n",
       "      <th>mpg</th>\n",
       "      <th>cylinders</th>\n",
       "      <th>displacement</th>\n",
       "      <th>horsepower</th>\n",
       "      <th>weight</th>\n",
       "      <th>acceleration</th>\n",
       "      <th>model_year</th>\n",
       "      <th>origin</th>\n",
       "      <th>name</th>\n",
       "    </tr>\n",
       "  </thead>\n",
       "  <tbody>\n",
       "    <tr>\n",
       "      <th>0</th>\n",
       "      <td>18.0</td>\n",
       "      <td>8</td>\n",
       "      <td>307.0</td>\n",
       "      <td>130.0</td>\n",
       "      <td>3504</td>\n",
       "      <td>12.0</td>\n",
       "      <td>70</td>\n",
       "      <td>usa</td>\n",
       "      <td>chevrolet chevelle malibu</td>\n",
       "    </tr>\n",
       "    <tr>\n",
       "      <th>1</th>\n",
       "      <td>15.0</td>\n",
       "      <td>8</td>\n",
       "      <td>350.0</td>\n",
       "      <td>165.0</td>\n",
       "      <td>3693</td>\n",
       "      <td>11.5</td>\n",
       "      <td>70</td>\n",
       "      <td>usa</td>\n",
       "      <td>buick skylark 320</td>\n",
       "    </tr>\n",
       "    <tr>\n",
       "      <th>2</th>\n",
       "      <td>18.0</td>\n",
       "      <td>8</td>\n",
       "      <td>318.0</td>\n",
       "      <td>150.0</td>\n",
       "      <td>3436</td>\n",
       "      <td>11.0</td>\n",
       "      <td>70</td>\n",
       "      <td>usa</td>\n",
       "      <td>plymouth satellite</td>\n",
       "    </tr>\n",
       "    <tr>\n",
       "      <th>3</th>\n",
       "      <td>16.0</td>\n",
       "      <td>8</td>\n",
       "      <td>304.0</td>\n",
       "      <td>150.0</td>\n",
       "      <td>3433</td>\n",
       "      <td>12.0</td>\n",
       "      <td>70</td>\n",
       "      <td>usa</td>\n",
       "      <td>amc rebel sst</td>\n",
       "    </tr>\n",
       "    <tr>\n",
       "      <th>4</th>\n",
       "      <td>17.0</td>\n",
       "      <td>8</td>\n",
       "      <td>302.0</td>\n",
       "      <td>140.0</td>\n",
       "      <td>3449</td>\n",
       "      <td>10.5</td>\n",
       "      <td>70</td>\n",
       "      <td>usa</td>\n",
       "      <td>ford torino</td>\n",
       "    </tr>\n",
       "  </tbody>\n",
       "</table>\n",
       "</div>"
      ],
      "text/plain": [
       "    mpg  cylinders  displacement  horsepower  weight  acceleration  \\\n",
       "0  18.0          8         307.0       130.0    3504          12.0   \n",
       "1  15.0          8         350.0       165.0    3693          11.5   \n",
       "2  18.0          8         318.0       150.0    3436          11.0   \n",
       "3  16.0          8         304.0       150.0    3433          12.0   \n",
       "4  17.0          8         302.0       140.0    3449          10.5   \n",
       "\n",
       "   model_year origin                       name  \n",
       "0          70    usa  chevrolet chevelle malibu  \n",
       "1          70    usa          buick skylark 320  \n",
       "2          70    usa         plymouth satellite  \n",
       "3          70    usa              amc rebel sst  \n",
       "4          70    usa                ford torino  "
      ]
     },
     "execution_count": 65,
     "metadata": {},
     "output_type": "execute_result"
    }
   ],
   "source": [
    "mpg.head()"
   ]
  },
  {
   "cell_type": "code",
   "execution_count": null,
   "id": "95ed6490",
   "metadata": {},
   "outputs": [],
   "source": []
  }
 ],
 "metadata": {
  "interpreter": {
   "hash": "ad2bdc8ecc057115af97d19610ffacc2b4e99fae6737bb82f5d7fb13d2f2c186"
  },
  "kernelspec": {
   "display_name": "Python 3.9.7 ('base')",
   "language": "python",
   "name": "python3"
  },
  "language_info": {
   "codemirror_mode": {
    "name": "ipython",
    "version": 3
   },
   "file_extension": ".py",
   "mimetype": "text/x-python",
   "name": "python",
   "nbconvert_exporter": "python",
   "pygments_lexer": "ipython3",
   "version": "3.9.7"
  }
 },
 "nbformat": 4,
 "nbformat_minor": 5
}
