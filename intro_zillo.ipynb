{
 "cells": [
  {
   "cell_type": "markdown",
   "id": "a6e3cd04",
   "metadata": {},
   "source": [
    "<h2 id=\"exercises-i\">Exercises I</h2>\n",
    "<p>Let's review the steps we take at the beginning of each new module.</p>\n",
    "<ol>\n",
    "<li>Create a new repository named <code>regression-exercises</code> in your GitHub; all of your Regression work will be housed here.</li>\n",
    "<li>Clone this repository within your local <code>codeup-data-science</code> directory.</li>\n",
    "<li>Create a <code>.gitignore</code> and make sure your list of 'files to ignore' includes your <code>env.py</code> file.</li>\n",
    "<li>Ceate a <code>README.md</code> file that outlines the contents and purpose of your repository.</li>\n",
    "<li>Add, commit, and push these two files.</li>\n",
    "<li>Now you can add your <code>env.py</code> file to this repository to access the Codeup database server.</li>\n",
    "<li>For these exercises, you will create <code>wrangle.ipynb</code> and <code>wrangle.py</code> files to hold necessary functions.</li>\n",
    "<li>As always, add, commit, and push your work often.</li>\n",
    "</ol>\n",
    "<hr />\n",
    "<h2 id=\"exercises-ii\">Exercises II</h2>\n",
    "<p>Let's set up an example scenario as perspective for our regression exercises using the Zillow dataset.</p>\n",
    "<p>As a Codeup data science graduate, you want to show off your skills to the Zillow data science team in hopes of getting an interview for a position you saw pop up on LinkedIn. You thought it might look impressive to build an end-to-end project in which you use some of their Kaggle data to predict property values using some of their available features; who knows, you might even do some feature engineering to blow them away. Your goal is to predict the values of single unit properties using the obervations from 2017.</p>\n",
    "<p>In these exercises, you will complete the first step toward the above goal: acquire and prepare the necessary Zillow data from the zillow database in the Codeup database server.</p>\n",
    "<ol>\n",
    "<li>Acquire <code>bedroomcnt</code>, <code>bathroomcnt</code>, <code>calculatedfinishedsquarefeet</code>, <code>taxvaluedollarcnt</code>, <code>yearbuilt</code>, <code>taxamount</code>, and <code>fips</code> from the <code>zillow</code> database for all 'Single Family Residential' properties.</li>\n",
    "<li>Using your acquired Zillow data, walk through the summarization and cleaning steps in your <code>wrangle.ipynb</code> file like we did above. You may handle the missing values however you feel is appropriate and meaninful; remember to document your process and decisions using markdown and code commenting where helpful.</li>\n",
    "<li>Store all of the necessary functions to automate your process from acquiring the data to returning a cleaned dataframe witn no missing values in your <code>wrangle.py</code> file. Name your final function <code>wrangle_zillow</code>.</li>\n",
    "</ol>\n",
    "<div class=\"highlight\"><pre><span>"
   ]
  },
  {
   "cell_type": "code",
   "execution_count": null,
   "id": "c334ff85",
   "metadata": {},
   "outputs": [],
   "source": []
  }
 ],
 "metadata": {
  "kernelspec": {
   "display_name": "Python 3",
   "language": "python",
   "name": "python3"
  },
  "language_info": {
   "codemirror_mode": {
    "name": "ipython",
    "version": 3
   },
   "file_extension": ".py",
   "mimetype": "text/x-python",
   "name": "python",
   "nbconvert_exporter": "python",
   "pygments_lexer": "ipython3",
   "version": "3.8.8"
  }
 },
 "nbformat": 4,
 "nbformat_minor": 5
}
