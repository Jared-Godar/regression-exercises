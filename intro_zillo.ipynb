{
 "cells": [
  {
   "cell_type": "markdown",
   "id": "a6e3cd04",
   "metadata": {},
   "source": [
    "<h2 id=\"exercises-i\">Exercises I</h2>\n",
    "<p>Let's review the steps we take at the beginning of each new module.</p>\n",
    "<ol>\n",
    "<li>Create a new repository named <code>regression-exercises</code> in your GitHub; all of your Regression work will be housed here.</li>\n",
    "<li>Clone this repository within your local <code>codeup-data-science</code> directory.</li>\n",
    "<li>Create a <code>.gitignore</code> and make sure your list of 'files to ignore' includes your <code>env.py</code> file.</li>\n",
    "<li>Ceate a <code>README.md</code> file that outlines the contents and purpose of your repository.</li>\n",
    "<li>Add, commit, and push these two files.</li>\n",
    "<li>Now you can add your <code>env.py</code> file to this repository to access the Codeup database server.</li>\n",
    "<li>For these exercises, you will create <code>wrangle.ipynb</code> and <code>wrangle.py</code> files to hold necessary functions.</li>\n",
    "<li>As always, add, commit, and push your work often.</li>\n",
    "</ol>\n",
    "<hr />\n",
    "<h2 id=\"exercises-ii\">Exercises II</h2>\n",
    "<p>Let's set up an example scenario as perspective for our regression exercises using the Zillow dataset.</p>\n",
    "<p>As a Codeup data science graduate, you want to show off your skills to the Zillow data science team in hopes of getting an interview for a position you saw pop up on LinkedIn. You thought it might look impressive to build an end-to-end project in which you use some of their Kaggle data to predict property values using some of their available features; who knows, you might even do some feature engineering to blow them away. Your goal is to predict the values of single unit properties using the obervations from 2017.</p>\n",
    "<p>In these exercises, you will complete the first step toward the above goal: acquire and prepare the necessary Zillow data from the zillow database in the Codeup database server.</p>\n",
    "<ol>\n",
    "<li>Acquire <code>bedroomcnt</code>, <code>bathroomcnt</code>, <code>calculatedfinishedsquarefeet</code>, <code>taxvaluedollarcnt</code>, <code>yearbuilt</code>, <code>taxamount</code>, and <code>fips</code> from the <code>zillow</code> database for all 'Single Family Residential' properties.</li>\n"
   ]
  },
  {
   "cell_type": "code",
   "execution_count": 25,
   "id": "c334ff85",
   "metadata": {},
   "outputs": [],
   "source": [
    "import pandas as pd\n",
    "import matplotlib.pyplot as plt\n",
    "import seaborn as sns\n",
    "import numpy as np \n",
    "from env import host, user, password\n",
    "import zillo_wrangle\n"
   ]
  },
  {
   "cell_type": "code",
   "execution_count": 26,
   "id": "c5e90b86",
   "metadata": {},
   "outputs": [],
   "source": [
    "# function to contact database\n",
    "def get_db_url(db_name):\n",
    "    return f\"mysql+pymysql://{user}:{password}@{host}/{db_name}\""
   ]
  },
  {
   "cell_type": "code",
   "execution_count": 27,
   "id": "a07bbb1c",
   "metadata": {},
   "outputs": [],
   "source": [
    "# function to query database and return zillow df\n",
    "def get_zillo():\n",
    "    query = \"\"\"\n",
    "    SELECT bedroomcnt as bedrooms, \n",
    "       bathroomcnt as bathrooms,\n",
    "       calculatedfinishedsquarefeet as square_feet,\n",
    "       taxvaluedollarcnt as home_value,\n",
    "       yearbuilt as year,\n",
    "\t   taxamount as taxes,\n",
    "       fips as fips_number\n",
    "    FROM predictions_2017\n",
    "    JOIN properties_2017 USING(id)\n",
    "    JOIN propertylandusetype USING(propertylandusetypeid)\n",
    "    WHERE #(transactiondate >= '2017-05-01' AND transactiondate <= '2017-06-30') \n",
    "        propertylandusetypeid = '261'\n",
    "        AND bedroomcnt > 0\n",
    "        AND bathroomcnt > 0\n",
    "        AND calculatedfinishedsquarefeet > 0 \n",
    "        AND taxamount > 0\n",
    "        AND taxvaluedollarcnt > 0\n",
    "        AND fips > 0\n",
    "    ORDER BY fips;\n",
    "    \"\"\"\n",
    "    df = pd.read_sql(query, get_db_url('zillow'))\n",
    "    return df"
   ]
  },
  {
   "cell_type": "code",
   "execution_count": 28,
   "id": "e529eb60",
   "metadata": {},
   "outputs": [],
   "source": [
    "zillo = get_zillo()"
   ]
  },
  {
   "cell_type": "code",
   "execution_count": 29,
   "id": "a427413c",
   "metadata": {},
   "outputs": [
    {
     "data": {
      "text/html": [
       "<div>\n",
       "<style scoped>\n",
       "    .dataframe tbody tr th:only-of-type {\n",
       "        vertical-align: middle;\n",
       "    }\n",
       "\n",
       "    .dataframe tbody tr th {\n",
       "        vertical-align: top;\n",
       "    }\n",
       "\n",
       "    .dataframe thead th {\n",
       "        text-align: right;\n",
       "    }\n",
       "</style>\n",
       "<table border=\"1\" class=\"dataframe\">\n",
       "  <thead>\n",
       "    <tr style=\"text-align: right;\">\n",
       "      <th></th>\n",
       "      <th>bedrooms</th>\n",
       "      <th>bathrooms</th>\n",
       "      <th>square_feet</th>\n",
       "      <th>home_value</th>\n",
       "      <th>year</th>\n",
       "      <th>taxes</th>\n",
       "      <th>fips_number</th>\n",
       "    </tr>\n",
       "  </thead>\n",
       "  <tbody>\n",
       "    <tr>\n",
       "      <th>0</th>\n",
       "      <td>2.0</td>\n",
       "      <td>2.0</td>\n",
       "      <td>1574.0</td>\n",
       "      <td>728162.0</td>\n",
       "      <td>1937.0</td>\n",
       "      <td>8402.20</td>\n",
       "      <td>6037.0</td>\n",
       "    </tr>\n",
       "    <tr>\n",
       "      <th>1</th>\n",
       "      <td>2.0</td>\n",
       "      <td>1.0</td>\n",
       "      <td>1034.0</td>\n",
       "      <td>175643.0</td>\n",
       "      <td>1924.0</td>\n",
       "      <td>2165.10</td>\n",
       "      <td>6037.0</td>\n",
       "    </tr>\n",
       "    <tr>\n",
       "      <th>2</th>\n",
       "      <td>4.0</td>\n",
       "      <td>2.0</td>\n",
       "      <td>1722.0</td>\n",
       "      <td>348956.0</td>\n",
       "      <td>1961.0</td>\n",
       "      <td>4238.44</td>\n",
       "      <td>6037.0</td>\n",
       "    </tr>\n",
       "    <tr>\n",
       "      <th>3</th>\n",
       "      <td>3.0</td>\n",
       "      <td>2.0</td>\n",
       "      <td>1961.0</td>\n",
       "      <td>812199.0</td>\n",
       "      <td>1948.0</td>\n",
       "      <td>9568.47</td>\n",
       "      <td>6037.0</td>\n",
       "    </tr>\n",
       "    <tr>\n",
       "      <th>4</th>\n",
       "      <td>3.0</td>\n",
       "      <td>2.0</td>\n",
       "      <td>1237.0</td>\n",
       "      <td>471166.0</td>\n",
       "      <td>1944.0</td>\n",
       "      <td>5610.38</td>\n",
       "      <td>6037.0</td>\n",
       "    </tr>\n",
       "  </tbody>\n",
       "</table>\n",
       "</div>"
      ],
      "text/plain": [
       "   bedrooms  bathrooms  square_feet  home_value    year    taxes  fips_number\n",
       "0       2.0        2.0       1574.0    728162.0  1937.0  8402.20       6037.0\n",
       "1       2.0        1.0       1034.0    175643.0  1924.0  2165.10       6037.0\n",
       "2       4.0        2.0       1722.0    348956.0  1961.0  4238.44       6037.0\n",
       "3       3.0        2.0       1961.0    812199.0  1948.0  9568.47       6037.0\n",
       "4       3.0        2.0       1237.0    471166.0  1944.0  5610.38       6037.0"
      ]
     },
     "execution_count": 29,
     "metadata": {},
     "output_type": "execute_result"
    }
   ],
   "source": [
    "zillo.head()"
   ]
  },
  {
   "cell_type": "code",
   "execution_count": 30,
   "id": "a815dca6",
   "metadata": {},
   "outputs": [
    {
     "data": {
      "text/plain": [
       "bedrooms       float64\n",
       "bathrooms      float64\n",
       "square_feet    float64\n",
       "home_value     float64\n",
       "year           float64\n",
       "taxes          float64\n",
       "fips_number    float64\n",
       "dtype: object"
      ]
     },
     "execution_count": 30,
     "metadata": {},
     "output_type": "execute_result"
    }
   ],
   "source": [
    "zillo.dtypes"
   ]
  },
  {
   "cell_type": "code",
   "execution_count": 31,
   "id": "acf18cc0",
   "metadata": {},
   "outputs": [],
   "source": [
    "# function to clean up my zillow df\n",
    "def clean_data(df):\n",
    "    '''\n",
    "    This funciton takes in the zillow df and drops observations with Null values\n",
    "    and handles data types returning a df with a basic clean.\n",
    "    '''\n",
    "    df = df.dropna()\n",
    "    df['fips_number'] = df['fips_number'].astype(int)\n",
    "    df['square_feet'] = df['square_feet'].astype(int)\n",
    "    df['year'] = df['year'].astype(int)\n",
    "\n",
    "    return df"
   ]
  },
  {
   "cell_type": "code",
   "execution_count": 32,
   "id": "947e2bc4",
   "metadata": {},
   "outputs": [
    {
     "name": "stderr",
     "output_type": "stream",
     "text": [
      "<ipython-input-31-9325065dbe4a>:8: SettingWithCopyWarning: \n",
      "A value is trying to be set on a copy of a slice from a DataFrame.\n",
      "Try using .loc[row_indexer,col_indexer] = value instead\n",
      "\n",
      "See the caveats in the documentation: https://pandas.pydata.org/pandas-docs/stable/user_guide/indexing.html#returning-a-view-versus-a-copy\n",
      "  df['fips_number'] = df['fips_number'].astype(int)\n",
      "<ipython-input-31-9325065dbe4a>:9: SettingWithCopyWarning: \n",
      "A value is trying to be set on a copy of a slice from a DataFrame.\n",
      "Try using .loc[row_indexer,col_indexer] = value instead\n",
      "\n",
      "See the caveats in the documentation: https://pandas.pydata.org/pandas-docs/stable/user_guide/indexing.html#returning-a-view-versus-a-copy\n",
      "  df['square_feet'] = df['square_feet'].astype(int)\n",
      "<ipython-input-31-9325065dbe4a>:10: SettingWithCopyWarning: \n",
      "A value is trying to be set on a copy of a slice from a DataFrame.\n",
      "Try using .loc[row_indexer,col_indexer] = value instead\n",
      "\n",
      "See the caveats in the documentation: https://pandas.pydata.org/pandas-docs/stable/user_guide/indexing.html#returning-a-view-versus-a-copy\n",
      "  df['year'] = df['year'].astype(int)\n"
     ]
    }
   ],
   "source": [
    "zillo = clean_data(zillo)"
   ]
  },
  {
   "cell_type": "code",
   "execution_count": 33,
   "id": "69565075",
   "metadata": {},
   "outputs": [
    {
     "data": {
      "text/plain": [
       "bedrooms       float64\n",
       "bathrooms      float64\n",
       "square_feet      int64\n",
       "home_value     float64\n",
       "year             int64\n",
       "taxes          float64\n",
       "fips_number      int64\n",
       "dtype: object"
      ]
     },
     "execution_count": 33,
     "metadata": {},
     "output_type": "execute_result"
    }
   ],
   "source": [
    "zillo.dtypes"
   ]
  },
  {
   "cell_type": "code",
   "execution_count": 34,
   "id": "be0f061b",
   "metadata": {},
   "outputs": [
    {
     "data": {
      "text/html": [
       "<div>\n",
       "<style scoped>\n",
       "    .dataframe tbody tr th:only-of-type {\n",
       "        vertical-align: middle;\n",
       "    }\n",
       "\n",
       "    .dataframe tbody tr th {\n",
       "        vertical-align: top;\n",
       "    }\n",
       "\n",
       "    .dataframe thead th {\n",
       "        text-align: right;\n",
       "    }\n",
       "</style>\n",
       "<table border=\"1\" class=\"dataframe\">\n",
       "  <thead>\n",
       "    <tr style=\"text-align: right;\">\n",
       "      <th></th>\n",
       "      <th>count</th>\n",
       "      <th>mean</th>\n",
       "      <th>std</th>\n",
       "      <th>min</th>\n",
       "      <th>25%</th>\n",
       "      <th>50%</th>\n",
       "      <th>75%</th>\n",
       "      <th>max</th>\n",
       "    </tr>\n",
       "  </thead>\n",
       "  <tbody>\n",
       "    <tr>\n",
       "      <th>bedrooms</th>\n",
       "      <td>55588.0</td>\n",
       "      <td>3.311380</td>\n",
       "      <td>0.924005</td>\n",
       "      <td>1.00</td>\n",
       "      <td>3.000</td>\n",
       "      <td>3.000</td>\n",
       "      <td>4.00</td>\n",
       "      <td>25.00</td>\n",
       "    </tr>\n",
       "    <tr>\n",
       "      <th>bathrooms</th>\n",
       "      <td>55588.0</td>\n",
       "      <td>2.254884</td>\n",
       "      <td>0.992818</td>\n",
       "      <td>1.00</td>\n",
       "      <td>2.000</td>\n",
       "      <td>2.000</td>\n",
       "      <td>3.00</td>\n",
       "      <td>20.00</td>\n",
       "    </tr>\n",
       "    <tr>\n",
       "      <th>square_feet</th>\n",
       "      <td>55588.0</td>\n",
       "      <td>1870.208031</td>\n",
       "      <td>964.140876</td>\n",
       "      <td>320.00</td>\n",
       "      <td>1262.000</td>\n",
       "      <td>1631.000</td>\n",
       "      <td>2217.00</td>\n",
       "      <td>26345.00</td>\n",
       "    </tr>\n",
       "    <tr>\n",
       "      <th>home_value</th>\n",
       "      <td>55588.0</td>\n",
       "      <td>456879.285745</td>\n",
       "      <td>593725.070535</td>\n",
       "      <td>9762.00</td>\n",
       "      <td>188731.500</td>\n",
       "      <td>330507.000</td>\n",
       "      <td>534667.50</td>\n",
       "      <td>30166843.00</td>\n",
       "    </tr>\n",
       "    <tr>\n",
       "      <th>year</th>\n",
       "      <td>55588.0</td>\n",
       "      <td>1961.232496</td>\n",
       "      <td>21.959743</td>\n",
       "      <td>1862.00</td>\n",
       "      <td>1949.000</td>\n",
       "      <td>1958.000</td>\n",
       "      <td>1976.00</td>\n",
       "      <td>2016.00</td>\n",
       "    </tr>\n",
       "    <tr>\n",
       "      <th>taxes</th>\n",
       "      <td>55588.0</td>\n",
       "      <td>5566.992804</td>\n",
       "      <td>6827.036130</td>\n",
       "      <td>20.24</td>\n",
       "      <td>2539.715</td>\n",
       "      <td>4139.215</td>\n",
       "      <td>6415.89</td>\n",
       "      <td>342940.38</td>\n",
       "    </tr>\n",
       "    <tr>\n",
       "      <th>fips_number</th>\n",
       "      <td>55588.0</td>\n",
       "      <td>6048.770058</td>\n",
       "      <td>21.129554</td>\n",
       "      <td>6037.00</td>\n",
       "      <td>6037.000</td>\n",
       "      <td>6037.000</td>\n",
       "      <td>6059.00</td>\n",
       "      <td>6111.00</td>\n",
       "    </tr>\n",
       "  </tbody>\n",
       "</table>\n",
       "</div>"
      ],
      "text/plain": [
       "               count           mean            std      min         25%  \\\n",
       "bedrooms     55588.0       3.311380       0.924005     1.00       3.000   \n",
       "bathrooms    55588.0       2.254884       0.992818     1.00       2.000   \n",
       "square_feet  55588.0    1870.208031     964.140876   320.00    1262.000   \n",
       "home_value   55588.0  456879.285745  593725.070535  9762.00  188731.500   \n",
       "year         55588.0    1961.232496      21.959743  1862.00    1949.000   \n",
       "taxes        55588.0    5566.992804    6827.036130    20.24    2539.715   \n",
       "fips_number  55588.0    6048.770058      21.129554  6037.00    6037.000   \n",
       "\n",
       "                    50%        75%          max  \n",
       "bedrooms          3.000       4.00        25.00  \n",
       "bathrooms         2.000       3.00        20.00  \n",
       "square_feet    1631.000    2217.00     26345.00  \n",
       "home_value   330507.000  534667.50  30166843.00  \n",
       "year           1958.000    1976.00      2016.00  \n",
       "taxes          4139.215    6415.89    342940.38  \n",
       "fips_number    6037.000    6059.00      6111.00  "
      ]
     },
     "execution_count": 34,
     "metadata": {},
     "output_type": "execute_result"
    }
   ],
   "source": [
    "zillo.describe().T"
   ]
  },
  {
   "cell_type": "code",
   "execution_count": 35,
   "id": "acbe67ed",
   "metadata": {},
   "outputs": [],
   "source": [
    "# composite\n",
    "def wrangle_zillow():\n",
    "    df = get_data_from_sql()\n",
    "    df = clean_data(df)\n",
    "    return df "
   ]
  },
  {
   "cell_type": "code",
   "execution_count": 36,
   "id": "dbb737da",
   "metadata": {},
   "outputs": [
    {
     "data": {
      "text/plain": [
       "(55588, 7)"
      ]
     },
     "execution_count": 36,
     "metadata": {},
     "output_type": "execute_result"
    }
   ],
   "source": [
    "zillo.shape"
   ]
  },
  {
   "cell_type": "code",
   "execution_count": 39,
   "id": "336947b3",
   "metadata": {},
   "outputs": [],
   "source": [
    "zillo.to_csv('zillo_clean.csv', index = False)"
   ]
  },
  {
   "cell_type": "markdown",
   "id": "ed8a578c",
   "metadata": {},
   "source": [
    "2. Using your acquired Zillow data, walk through the summarization and cleaning steps in your <code>wrangle.ipynb</code> file like we did above. You may handle the missing values however you feel is appropriate and meaninful; remember to document your process and decisions using markdown and code commenting where helpful."
   ]
  },
  {
   "cell_type": "code",
   "execution_count": null,
   "id": "21a397de",
   "metadata": {},
   "outputs": [],
   "source": []
  },
  {
   "cell_type": "markdown",
   "id": "d801a854",
   "metadata": {},
   "source": [
    "3. Store all of the necessary functions to automate your process from acquiring the data to returning a cleaned dataframe witn no missing values in your <code>wrangle.py</code> file. Name your final function <code>wrangle_zillow</code>."
   ]
  },
  {
   "cell_type": "code",
   "execution_count": null,
   "id": "4d62d32d",
   "metadata": {},
   "outputs": [],
   "source": []
  },
  {
   "cell_type": "markdown",
   "id": "c1da7b43",
   "metadata": {},
   "source": []
  }
 ],
 "metadata": {
  "kernelspec": {
   "display_name": "Python 3",
   "language": "python",
   "name": "python3"
  },
  "language_info": {
   "codemirror_mode": {
    "name": "ipython",
    "version": 3
   },
   "file_extension": ".py",
   "mimetype": "text/x-python",
   "name": "python",
   "nbconvert_exporter": "python",
   "pygments_lexer": "ipython3",
   "version": "3.8.8"
  }
 },
 "nbformat": 4,
 "nbformat_minor": 5
}
