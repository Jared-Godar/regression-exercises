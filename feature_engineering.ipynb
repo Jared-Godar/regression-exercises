{
 "cells": [
  {
   "cell_type": "markdown",
   "id": "02665edc",
   "metadata": {},
   "source": [
    "<h2 id=\"exercises\">Exercises</h2>\n",
    "<p>Do your work for this exercise in a jupyter notebook named <code>feature_engineering</code> within the <code>regression-exercises</code> repo. Add, commit, and push your work.</p>\n"
   ]
  },
  {
   "cell_type": "code",
   "execution_count": 1,
   "id": "60a5f0ed",
   "metadata": {},
   "outputs": [],
   "source": [
    "from pydataset import data\n",
    "import pandas as pd\n",
    "import numpy as np\n",
    "\n",
    "from sklearn.model_selection import train_test_split\n",
    "import sklearn.linear_model\n",
    "import sklearn.feature_selection\n",
    "import sklearn.preprocessing"
   ]
  },
  {
   "cell_type": "markdown",
   "id": "5ce56f98",
   "metadata": {},
   "source": [
    "<ol>\n",
    "<li>\n",
    "<p>Load the <code>tips</code> dataset.</p>\n",
    "<ol>\n"
   ]
  },
  {
   "cell_type": "code",
   "execution_count": 2,
   "id": "7a60c78c",
   "metadata": {},
   "outputs": [
    {
     "data": {
      "text/html": [
       "<div>\n",
       "<style scoped>\n",
       "    .dataframe tbody tr th:only-of-type {\n",
       "        vertical-align: middle;\n",
       "    }\n",
       "\n",
       "    .dataframe tbody tr th {\n",
       "        vertical-align: top;\n",
       "    }\n",
       "\n",
       "    .dataframe thead th {\n",
       "        text-align: right;\n",
       "    }\n",
       "</style>\n",
       "<table border=\"1\" class=\"dataframe\">\n",
       "  <thead>\n",
       "    <tr style=\"text-align: right;\">\n",
       "      <th></th>\n",
       "      <th>total_bill</th>\n",
       "      <th>tip</th>\n",
       "      <th>sex</th>\n",
       "      <th>smoker</th>\n",
       "      <th>day</th>\n",
       "      <th>time</th>\n",
       "      <th>size</th>\n",
       "    </tr>\n",
       "  </thead>\n",
       "  <tbody>\n",
       "    <tr>\n",
       "      <th>1</th>\n",
       "      <td>16.99</td>\n",
       "      <td>1.01</td>\n",
       "      <td>Female</td>\n",
       "      <td>No</td>\n",
       "      <td>Sun</td>\n",
       "      <td>Dinner</td>\n",
       "      <td>2</td>\n",
       "    </tr>\n",
       "    <tr>\n",
       "      <th>2</th>\n",
       "      <td>10.34</td>\n",
       "      <td>1.66</td>\n",
       "      <td>Male</td>\n",
       "      <td>No</td>\n",
       "      <td>Sun</td>\n",
       "      <td>Dinner</td>\n",
       "      <td>3</td>\n",
       "    </tr>\n",
       "    <tr>\n",
       "      <th>3</th>\n",
       "      <td>21.01</td>\n",
       "      <td>3.50</td>\n",
       "      <td>Male</td>\n",
       "      <td>No</td>\n",
       "      <td>Sun</td>\n",
       "      <td>Dinner</td>\n",
       "      <td>3</td>\n",
       "    </tr>\n",
       "    <tr>\n",
       "      <th>4</th>\n",
       "      <td>23.68</td>\n",
       "      <td>3.31</td>\n",
       "      <td>Male</td>\n",
       "      <td>No</td>\n",
       "      <td>Sun</td>\n",
       "      <td>Dinner</td>\n",
       "      <td>2</td>\n",
       "    </tr>\n",
       "    <tr>\n",
       "      <th>5</th>\n",
       "      <td>24.59</td>\n",
       "      <td>3.61</td>\n",
       "      <td>Female</td>\n",
       "      <td>No</td>\n",
       "      <td>Sun</td>\n",
       "      <td>Dinner</td>\n",
       "      <td>4</td>\n",
       "    </tr>\n",
       "  </tbody>\n",
       "</table>\n",
       "</div>"
      ],
      "text/plain": [
       "   total_bill   tip     sex smoker  day    time  size\n",
       "1       16.99  1.01  Female     No  Sun  Dinner     2\n",
       "2       10.34  1.66    Male     No  Sun  Dinner     3\n",
       "3       21.01  3.50    Male     No  Sun  Dinner     3\n",
       "4       23.68  3.31    Male     No  Sun  Dinner     2\n",
       "5       24.59  3.61  Female     No  Sun  Dinner     4"
      ]
     },
     "execution_count": 2,
     "metadata": {},
     "output_type": "execute_result"
    }
   ],
   "source": [
    "tips = data('tips')\n",
    "tips.head()"
   ]
  },
  {
   "cell_type": "code",
   "execution_count": 3,
   "id": "81d04540",
   "metadata": {},
   "outputs": [
    {
     "data": {
      "text/plain": [
       "(244, 7)"
      ]
     },
     "execution_count": 3,
     "metadata": {},
     "output_type": "execute_result"
    }
   ],
   "source": [
    "tips.shape"
   ]
  },
  {
   "cell_type": "code",
   "execution_count": 4,
   "id": "21137a4d",
   "metadata": {},
   "outputs": [],
   "source": [
    "tips = tips.rename(columns={'size': 'number_of_people'})"
   ]
  },
  {
   "cell_type": "markdown",
   "id": "2f96ecbf",
   "metadata": {},
   "source": [
    "a. Create a column named <code>tip_percentage</code>. This should be the tip amount divided by the total bill."
   ]
  },
  {
   "cell_type": "code",
   "execution_count": 5,
   "id": "0d175c22",
   "metadata": {},
   "outputs": [],
   "source": [
    "tips[\"tip_percentage\"] = tips.tip / tips.total_bill\n"
   ]
  },
  {
   "cell_type": "code",
   "execution_count": 6,
   "id": "7127cb87",
   "metadata": {},
   "outputs": [
    {
     "data": {
      "text/html": [
       "<div>\n",
       "<style scoped>\n",
       "    .dataframe tbody tr th:only-of-type {\n",
       "        vertical-align: middle;\n",
       "    }\n",
       "\n",
       "    .dataframe tbody tr th {\n",
       "        vertical-align: top;\n",
       "    }\n",
       "\n",
       "    .dataframe thead th {\n",
       "        text-align: right;\n",
       "    }\n",
       "</style>\n",
       "<table border=\"1\" class=\"dataframe\">\n",
       "  <thead>\n",
       "    <tr style=\"text-align: right;\">\n",
       "      <th></th>\n",
       "      <th>total_bill</th>\n",
       "      <th>tip</th>\n",
       "      <th>sex</th>\n",
       "      <th>smoker</th>\n",
       "      <th>day</th>\n",
       "      <th>time</th>\n",
       "      <th>number_of_people</th>\n",
       "      <th>tip_percentage</th>\n",
       "    </tr>\n",
       "  </thead>\n",
       "  <tbody>\n",
       "    <tr>\n",
       "      <th>1</th>\n",
       "      <td>16.99</td>\n",
       "      <td>1.01</td>\n",
       "      <td>Female</td>\n",
       "      <td>No</td>\n",
       "      <td>Sun</td>\n",
       "      <td>Dinner</td>\n",
       "      <td>2</td>\n",
       "      <td>0.059447</td>\n",
       "    </tr>\n",
       "    <tr>\n",
       "      <th>2</th>\n",
       "      <td>10.34</td>\n",
       "      <td>1.66</td>\n",
       "      <td>Male</td>\n",
       "      <td>No</td>\n",
       "      <td>Sun</td>\n",
       "      <td>Dinner</td>\n",
       "      <td>3</td>\n",
       "      <td>0.160542</td>\n",
       "    </tr>\n",
       "    <tr>\n",
       "      <th>3</th>\n",
       "      <td>21.01</td>\n",
       "      <td>3.50</td>\n",
       "      <td>Male</td>\n",
       "      <td>No</td>\n",
       "      <td>Sun</td>\n",
       "      <td>Dinner</td>\n",
       "      <td>3</td>\n",
       "      <td>0.166587</td>\n",
       "    </tr>\n",
       "    <tr>\n",
       "      <th>4</th>\n",
       "      <td>23.68</td>\n",
       "      <td>3.31</td>\n",
       "      <td>Male</td>\n",
       "      <td>No</td>\n",
       "      <td>Sun</td>\n",
       "      <td>Dinner</td>\n",
       "      <td>2</td>\n",
       "      <td>0.139780</td>\n",
       "    </tr>\n",
       "    <tr>\n",
       "      <th>5</th>\n",
       "      <td>24.59</td>\n",
       "      <td>3.61</td>\n",
       "      <td>Female</td>\n",
       "      <td>No</td>\n",
       "      <td>Sun</td>\n",
       "      <td>Dinner</td>\n",
       "      <td>4</td>\n",
       "      <td>0.146808</td>\n",
       "    </tr>\n",
       "  </tbody>\n",
       "</table>\n",
       "</div>"
      ],
      "text/plain": [
       "   total_bill   tip     sex smoker  day    time  number_of_people  \\\n",
       "1       16.99  1.01  Female     No  Sun  Dinner                 2   \n",
       "2       10.34  1.66    Male     No  Sun  Dinner                 3   \n",
       "3       21.01  3.50    Male     No  Sun  Dinner                 3   \n",
       "4       23.68  3.31    Male     No  Sun  Dinner                 2   \n",
       "5       24.59  3.61  Female     No  Sun  Dinner                 4   \n",
       "\n",
       "   tip_percentage  \n",
       "1        0.059447  \n",
       "2        0.160542  \n",
       "3        0.166587  \n",
       "4        0.139780  \n",
       "5        0.146808  "
      ]
     },
     "execution_count": 6,
     "metadata": {},
     "output_type": "execute_result"
    }
   ],
   "source": [
    "tips.head()"
   ]
  },
  {
   "cell_type": "markdown",
   "id": "3632c380",
   "metadata": {},
   "source": [
    "b. Create a column named <code>price_per_person</code>. This should be the total bill divided by the party size.\n"
   ]
  },
  {
   "cell_type": "code",
   "execution_count": 8,
   "id": "adb84b26",
   "metadata": {},
   "outputs": [
    {
     "data": {
      "text/html": [
       "<div>\n",
       "<style scoped>\n",
       "    .dataframe tbody tr th:only-of-type {\n",
       "        vertical-align: middle;\n",
       "    }\n",
       "\n",
       "    .dataframe tbody tr th {\n",
       "        vertical-align: top;\n",
       "    }\n",
       "\n",
       "    .dataframe thead th {\n",
       "        text-align: right;\n",
       "    }\n",
       "</style>\n",
       "<table border=\"1\" class=\"dataframe\">\n",
       "  <thead>\n",
       "    <tr style=\"text-align: right;\">\n",
       "      <th></th>\n",
       "      <th>total_bill</th>\n",
       "      <th>tip</th>\n",
       "      <th>sex</th>\n",
       "      <th>smoker</th>\n",
       "      <th>day</th>\n",
       "      <th>time</th>\n",
       "      <th>number_of_people</th>\n",
       "      <th>tip_percentage</th>\n",
       "      <th>price_per_person</th>\n",
       "    </tr>\n",
       "  </thead>\n",
       "  <tbody>\n",
       "    <tr>\n",
       "      <th>1</th>\n",
       "      <td>16.99</td>\n",
       "      <td>1.01</td>\n",
       "      <td>Female</td>\n",
       "      <td>No</td>\n",
       "      <td>Sun</td>\n",
       "      <td>Dinner</td>\n",
       "      <td>2</td>\n",
       "      <td>0.059447</td>\n",
       "      <td>8.495000</td>\n",
       "    </tr>\n",
       "    <tr>\n",
       "      <th>2</th>\n",
       "      <td>10.34</td>\n",
       "      <td>1.66</td>\n",
       "      <td>Male</td>\n",
       "      <td>No</td>\n",
       "      <td>Sun</td>\n",
       "      <td>Dinner</td>\n",
       "      <td>3</td>\n",
       "      <td>0.160542</td>\n",
       "      <td>3.446667</td>\n",
       "    </tr>\n",
       "    <tr>\n",
       "      <th>3</th>\n",
       "      <td>21.01</td>\n",
       "      <td>3.50</td>\n",
       "      <td>Male</td>\n",
       "      <td>No</td>\n",
       "      <td>Sun</td>\n",
       "      <td>Dinner</td>\n",
       "      <td>3</td>\n",
       "      <td>0.166587</td>\n",
       "      <td>7.003333</td>\n",
       "    </tr>\n",
       "    <tr>\n",
       "      <th>4</th>\n",
       "      <td>23.68</td>\n",
       "      <td>3.31</td>\n",
       "      <td>Male</td>\n",
       "      <td>No</td>\n",
       "      <td>Sun</td>\n",
       "      <td>Dinner</td>\n",
       "      <td>2</td>\n",
       "      <td>0.139780</td>\n",
       "      <td>11.840000</td>\n",
       "    </tr>\n",
       "    <tr>\n",
       "      <th>5</th>\n",
       "      <td>24.59</td>\n",
       "      <td>3.61</td>\n",
       "      <td>Female</td>\n",
       "      <td>No</td>\n",
       "      <td>Sun</td>\n",
       "      <td>Dinner</td>\n",
       "      <td>4</td>\n",
       "      <td>0.146808</td>\n",
       "      <td>6.147500</td>\n",
       "    </tr>\n",
       "  </tbody>\n",
       "</table>\n",
       "</div>"
      ],
      "text/plain": [
       "   total_bill   tip     sex smoker  day    time  number_of_people  \\\n",
       "1       16.99  1.01  Female     No  Sun  Dinner                 2   \n",
       "2       10.34  1.66    Male     No  Sun  Dinner                 3   \n",
       "3       21.01  3.50    Male     No  Sun  Dinner                 3   \n",
       "4       23.68  3.31    Male     No  Sun  Dinner                 2   \n",
       "5       24.59  3.61  Female     No  Sun  Dinner                 4   \n",
       "\n",
       "   tip_percentage  price_per_person  \n",
       "1        0.059447          8.495000  \n",
       "2        0.160542          3.446667  \n",
       "3        0.166587          7.003333  \n",
       "4        0.139780         11.840000  \n",
       "5        0.146808          6.147500  "
      ]
     },
     "execution_count": 8,
     "metadata": {},
     "output_type": "execute_result"
    }
   ],
   "source": [
    "tips[\"price_per_person\"] = tips.total_bill / tips.number_of_people\n",
    "tips.head()"
   ]
  },
  {
   "cell_type": "markdown",
   "id": "e7839782",
   "metadata": {},
   "source": [
    "c. Before using any of the methods discussed in the lesson, which features do you think would be most important for predicting the tip amount? The tip percentage?\n"
   ]
  },
  {
   "cell_type": "code",
   "execution_count": 10,
   "id": "428c2fbe",
   "metadata": {},
   "outputs": [
    {
     "data": {
      "text/html": [
       "<div>\n",
       "<style scoped>\n",
       "    .dataframe tbody tr th:only-of-type {\n",
       "        vertical-align: middle;\n",
       "    }\n",
       "\n",
       "    .dataframe tbody tr th {\n",
       "        vertical-align: top;\n",
       "    }\n",
       "\n",
       "    .dataframe thead th {\n",
       "        text-align: right;\n",
       "    }\n",
       "</style>\n",
       "<table border=\"1\" class=\"dataframe\">\n",
       "  <thead>\n",
       "    <tr style=\"text-align: right;\">\n",
       "      <th></th>\n",
       "      <th>total_bill</th>\n",
       "      <th>tip</th>\n",
       "      <th>number_of_people</th>\n",
       "      <th>tip_percentage</th>\n",
       "      <th>price_per_person</th>\n",
       "    </tr>\n",
       "  </thead>\n",
       "  <tbody>\n",
       "    <tr>\n",
       "      <th>1</th>\n",
       "      <td>16.99</td>\n",
       "      <td>1.01</td>\n",
       "      <td>2</td>\n",
       "      <td>0.059447</td>\n",
       "      <td>8.495000</td>\n",
       "    </tr>\n",
       "    <tr>\n",
       "      <th>2</th>\n",
       "      <td>10.34</td>\n",
       "      <td>1.66</td>\n",
       "      <td>3</td>\n",
       "      <td>0.160542</td>\n",
       "      <td>3.446667</td>\n",
       "    </tr>\n",
       "    <tr>\n",
       "      <th>3</th>\n",
       "      <td>21.01</td>\n",
       "      <td>3.50</td>\n",
       "      <td>3</td>\n",
       "      <td>0.166587</td>\n",
       "      <td>7.003333</td>\n",
       "    </tr>\n",
       "    <tr>\n",
       "      <th>4</th>\n",
       "      <td>23.68</td>\n",
       "      <td>3.31</td>\n",
       "      <td>2</td>\n",
       "      <td>0.139780</td>\n",
       "      <td>11.840000</td>\n",
       "    </tr>\n",
       "    <tr>\n",
       "      <th>5</th>\n",
       "      <td>24.59</td>\n",
       "      <td>3.61</td>\n",
       "      <td>4</td>\n",
       "      <td>0.146808</td>\n",
       "      <td>6.147500</td>\n",
       "    </tr>\n",
       "  </tbody>\n",
       "</table>\n",
       "</div>"
      ],
      "text/plain": [
       "   total_bill   tip  number_of_people  tip_percentage  price_per_person\n",
       "1       16.99  1.01                 2        0.059447          8.495000\n",
       "2       10.34  1.66                 3        0.160542          3.446667\n",
       "3       21.01  3.50                 3        0.166587          7.003333\n",
       "4       23.68  3.31                 2        0.139780         11.840000\n",
       "5       24.59  3.61                 4        0.146808          6.147500"
      ]
     },
     "execution_count": 10,
     "metadata": {},
     "output_type": "execute_result"
    }
   ],
   "source": [
    "# Select only numeric features\n",
    "\n",
    "tips = tips[['total_bill', 'tip', 'number_of_people', 'tip_percentage', 'price_per_person']]\n",
    "tips.head()"
   ]
  },
  {
   "cell_type": "code",
   "execution_count": 11,
   "id": "56a1f938",
   "metadata": {},
   "outputs": [
    {
     "data": {
      "text/plain": [
       "total_bill          float64\n",
       "tip                 float64\n",
       "number_of_people      int64\n",
       "tip_percentage      float64\n",
       "price_per_person    float64\n",
       "dtype: object"
      ]
     },
     "execution_count": 11,
     "metadata": {},
     "output_type": "execute_result"
    }
   ],
   "source": [
    "tips.dtypes"
   ]
  },
  {
   "cell_type": "markdown",
   "id": "afcc2098",
   "metadata": {},
   "source": [
    "d. Use select k best and recursive feature elimination to select the top 2 features for predicting tip amount. What are they?"
   ]
  },
  {
   "cell_type": "code",
   "execution_count": 12,
   "id": "bb0e4623",
   "metadata": {},
   "outputs": [],
   "source": [
    "def split(df):\n",
    "    '''\n",
    "    take in a DataFrame and return train, validate, and test DataFrames.\n",
    "    return train, validate, test DataFrames.\n",
    "    '''\n",
    "    train_validate, test = train_test_split(df, test_size=.2, random_state=123)\n",
    "    train, validate = train_test_split(train_validate, \n",
    "                                       test_size=.3, \n",
    "                                       random_state=123)\n",
    "    return train, validate, test"
   ]
  },
  {
   "cell_type": "code",
   "execution_count": 13,
   "id": "98e7020a",
   "metadata": {},
   "outputs": [],
   "source": [
    "# Split the data\n",
    "train, validate, test = split(tips)"
   ]
  },
  {
   "cell_type": "code",
   "execution_count": 15,
   "id": "2947d87c",
   "metadata": {},
   "outputs": [
    {
     "name": "stdout",
     "output_type": "stream",
     "text": [
      "(136, 5)\n",
      "(59, 5)\n",
      "(49, 5)\n"
     ]
    }
   ],
   "source": [
    "print(train.shape)\n",
    "print(validate.shape)\n",
    "print(test.shape)"
   ]
  },
  {
   "cell_type": "code",
   "execution_count": 16,
   "id": "f673d68e",
   "metadata": {},
   "outputs": [],
   "source": [
    "target = \"tip\"\n"
   ]
  },
  {
   "cell_type": "code",
   "execution_count": 17,
   "id": "9297a3d1",
   "metadata": {},
   "outputs": [],
   "source": [
    "# split train into X /Y\n",
    "\n",
    "X_train = train.drop(columns=[target])\n",
    "y_train = train[target]"
   ]
  },
  {
   "cell_type": "code",
   "execution_count": 18,
   "id": "742dd5c4",
   "metadata": {},
   "outputs": [],
   "source": [
    "# Same validata and test\n",
    "\n",
    "X_validate = validate.drop(columns=[target])\n",
    "y_validate = validate[target]\n",
    "X_test = test.drop(columns=[target])\n",
    "y_test = test[target]"
   ]
  },
  {
   "cell_type": "code",
   "execution_count": 19,
   "id": "d0072b0d",
   "metadata": {},
   "outputs": [
    {
     "data": {
      "text/html": [
       "<div>\n",
       "<style scoped>\n",
       "    .dataframe tbody tr th:only-of-type {\n",
       "        vertical-align: middle;\n",
       "    }\n",
       "\n",
       "    .dataframe tbody tr th {\n",
       "        vertical-align: top;\n",
       "    }\n",
       "\n",
       "    .dataframe thead th {\n",
       "        text-align: right;\n",
       "    }\n",
       "</style>\n",
       "<table border=\"1\" class=\"dataframe\">\n",
       "  <thead>\n",
       "    <tr style=\"text-align: right;\">\n",
       "      <th></th>\n",
       "      <th>total_bill</th>\n",
       "      <th>number_of_people</th>\n",
       "      <th>tip_percentage</th>\n",
       "      <th>price_per_person</th>\n",
       "    </tr>\n",
       "  </thead>\n",
       "  <tbody>\n",
       "    <tr>\n",
       "      <th>19</th>\n",
       "      <td>16.97</td>\n",
       "      <td>3</td>\n",
       "      <td>0.206246</td>\n",
       "      <td>5.656667</td>\n",
       "    </tr>\n",
       "    <tr>\n",
       "      <th>173</th>\n",
       "      <td>7.25</td>\n",
       "      <td>2</td>\n",
       "      <td>0.710345</td>\n",
       "      <td>3.625000</td>\n",
       "    </tr>\n",
       "    <tr>\n",
       "      <th>119</th>\n",
       "      <td>12.43</td>\n",
       "      <td>2</td>\n",
       "      <td>0.144811</td>\n",
       "      <td>6.215000</td>\n",
       "    </tr>\n",
       "    <tr>\n",
       "      <th>29</th>\n",
       "      <td>21.70</td>\n",
       "      <td>2</td>\n",
       "      <td>0.198157</td>\n",
       "      <td>10.850000</td>\n",
       "    </tr>\n",
       "    <tr>\n",
       "      <th>238</th>\n",
       "      <td>32.83</td>\n",
       "      <td>2</td>\n",
       "      <td>0.035638</td>\n",
       "      <td>16.415000</td>\n",
       "    </tr>\n",
       "  </tbody>\n",
       "</table>\n",
       "</div>"
      ],
      "text/plain": [
       "     total_bill  number_of_people  tip_percentage  price_per_person\n",
       "19        16.97                 3        0.206246          5.656667\n",
       "173        7.25                 2        0.710345          3.625000\n",
       "119       12.43                 2        0.144811          6.215000\n",
       "29        21.70                 2        0.198157         10.850000\n",
       "238       32.83                 2        0.035638         16.415000"
      ]
     },
     "execution_count": 19,
     "metadata": {},
     "output_type": "execute_result"
    }
   ],
   "source": [
    "X_train.head()"
   ]
  },
  {
   "cell_type": "code",
   "execution_count": 26,
   "id": "8f4d97d7",
   "metadata": {},
   "outputs": [],
   "source": [
    "#SCALE\n",
    "\n",
    "scaler = sklearn.preprocessing.MinMaxScaler()\n",
    "scaler.fit(X_train)\n",
    "\n",
    "X_train_scaled = scaler.transform(X_train)\n",
    "X_validate_scaled = scaler.transform(X_validate)\n",
    "X_test_scaled = scaler.transform(X_test)"
   ]
  },
  {
   "cell_type": "code",
   "execution_count": 27,
   "id": "d6560e89",
   "metadata": {},
   "outputs": [
    {
     "data": {
      "text/plain": [
       "array([[0.30711445, 0.4       , 0.25286274, 0.15034389],\n",
       "       [0.09235528, 0.2       , 1.        , 0.03225806],\n",
       "       [0.20680513, 0.2       , 0.1618078 , 0.1827957 ],\n",
       "       [0.41162174, 0.2       , 0.24087288, 0.45219413],\n",
       "       [0.65753425, 0.2       , 0.        , 0.77564661],\n",
       "       [0.78789218, 0.6       , 0.06198426, 0.38433595],\n",
       "       [0.44410075, 0.6       , 0.36296815, 0.15823888],\n",
       "       [0.3804684 , 0.2       , 0.18166098, 0.41121767],\n",
       "       [0.31794079, 0.2       , 0.16279257, 0.32897414],\n",
       "       [0.40720283, 0.6       , 0.18845606, 0.13397268],\n",
       "       [0.1979673 , 0.2       , 0.13198349, 0.17117117],\n",
       "       [0.19774635, 0.2       , 0.19009056, 0.17088056],\n",
       "       [0.34710561, 0.2       , 0.18394107, 0.36733508],\n",
       "       [0.32744145, 0.2       , 0.11287299, 0.3414705 ],\n",
       "       [0.31816173, 0.2       , 0.24411394, 0.32926475],\n",
       "       [0.69730446, 0.2       , 0.09911586, 0.82795699],\n",
       "       [0.71122404, 0.6       , 0.15735076, 0.33391456],\n",
       "       [0.33517455, 0.2       , 0.25270568, 0.35164196],\n",
       "       [0.2105612 , 0.2       , 0.06480882, 0.18773612],\n",
       "       [0.16438356, 0.2       , 0.12345544, 0.12699797],\n",
       "       [0.46420681, 0.6       , 0.12690599, 0.17146178],\n",
       "       [0.12174105, 0.        , 0.27884426, 0.32025574],\n",
       "       [0.80313743, 0.6       , 0.23217502, 0.3943621 ],\n",
       "       [0.43636765, 0.4       , 0.08876761, 0.26368304],\n",
       "       [0.182943  , 0.2       , 0.27363917, 0.15140947],\n",
       "       [0.15466195, 0.2       , 0.13115765, 0.11421099],\n",
       "       [0.19443217, 0.2       , 0.15070673, 0.16652136],\n",
       "       [0.60384445, 0.6       , 0.22020293, 0.26329555],\n",
       "       [0.32501105, 0.2       , 0.2197642 , 0.33827376],\n",
       "       [0.17896597, 0.2       , 0.14621188, 0.14617844],\n",
       "       [0.14604507, 0.2       , 0.14928783, 0.10287707],\n",
       "       [0.36986301, 0.2       , 0.2606632 , 0.39726824],\n",
       "       [0.52982766, 1.        , 0.22114016, 0.08359973],\n",
       "       [0.32589483, 0.2       , 0.09273086, 0.33943621],\n",
       "       [0.29275298, 0.2       , 0.33769082, 0.29584423],\n",
       "       [0.47392841, 0.4       , 0.15753041, 0.2966192 ],\n",
       "       [0.56053911, 0.2       , 0.08059195, 0.64806742],\n",
       "       [0.39637649, 0.2       , 0.15881125, 0.43214182],\n",
       "       [0.31352187, 0.4       , 0.18246509, 0.15596241],\n",
       "       [0.14427751, 0.2       , 0.56473211, 0.10055217],\n",
       "       [0.25209898, 0.2       , 0.15189328, 0.2423714 ],\n",
       "       [0.20790985, 0.2       , 0.24645515, 0.18424876],\n",
       "       [0.32810429, 0.2       , 0.20192013, 0.34234234],\n",
       "       [0.26491383, 0.2       , 0.24242394, 0.25922697],\n",
       "       [0.38400354, 0.6       , 0.16460653, 0.11871549],\n",
       "       [0.2638091 , 0.2       , 0.15355172, 0.2577739 ],\n",
       "       [0.59346001, 0.6       , 0.19824484, 0.25646614],\n",
       "       [0.15510384, 0.2       , 0.24096088, 0.11479221],\n",
       "       [0.22757402, 0.2       , 0.16888894, 0.21011334],\n",
       "       [0.12019443, 0.2       , 0.16488332, 0.06887533],\n",
       "       [0.64803358, 0.6       , 0.2216475 , 0.29235687],\n",
       "       [0.55457357, 0.4       , 0.2891683 , 0.36733508],\n",
       "       [0.27198409, 0.2       , 0.23628101, 0.26852659],\n",
       "       [0.20083959, 0.2       , 0.21532752, 0.17494914],\n",
       "       [0.36897923, 0.6       , 0.09711663, 0.10883464],\n",
       "       [0.43482103, 0.2       , 0.15891203, 0.48270851],\n",
       "       [0.25762262, 0.2       , 0.16854275, 0.24963673],\n",
       "       [1.        , 0.6       , 0.22318084, 0.52383028],\n",
       "       [0.18868758, 0.2       , 0.37994514, 0.15896542],\n",
       "       [0.14317278, 0.2       , 0.17221457, 0.0990991 ],\n",
       "       [0.15908087, 0.2       , 0.1939602 , 0.12002325],\n",
       "       [0.24480778, 0.2       , 0.15666751, 0.23278117],\n",
       "       [0.34401237, 0.4       , 0.05531772, 0.18269883],\n",
       "       [0.3451171 , 0.4       , 0.13036386, 0.18366754],\n",
       "       [0.28060097, 0.2       , 0.15676382, 0.27986051],\n",
       "       [0.10318162, 0.2       , 0.22292409, 0.04649811],\n",
       "       [0.28524083, 0.2       , 0.13545983, 0.28596338],\n",
       "       [0.77198409, 0.6       , 0.06415893, 0.37387387],\n",
       "       [0.82810429, 0.2       , 0.05683151, 1.        ],\n",
       "       [0.33627928, 0.6       , 0.25187046, 0.08732926],\n",
       "       [0.27883341, 0.2       , 0.08887441, 0.2775356 ],\n",
       "       [0.21365444, 0.2       , 0.18101594, 0.19180471],\n",
       "       [0.49690676, 0.6       , 0.19883962, 0.19296716],\n",
       "       [0.43504198, 0.2       , 0.14253906, 0.48299913],\n",
       "       [0.42090146, 0.2       , 0.14015094, 0.46439988],\n",
       "       [0.14825453, 0.2       , 0.20935539, 0.1057832 ],\n",
       "       [0.99646487, 1.        , 0.10102302, 0.28819142],\n",
       "       [0.53314185, 0.6       , 0.16513944, 0.21679744],\n",
       "       [0.22801591, 0.2       , 0.23607806, 0.21069457],\n",
       "       [0.28148475, 0.2       , 0.24341742, 0.28102296],\n",
       "       [0.69001326, 1.        , 0.23669121, 0.15383125],\n",
       "       [0.28568272, 0.2       , 0.1324455 , 0.28654461],\n",
       "       [0.27286787, 0.2       , 0.09808364, 0.26968904],\n",
       "       [0.24834291, 0.2       , 0.36147066, 0.23743098],\n",
       "       [0.38930623, 0.8       , 0.30535417, 0.06207498],\n",
       "       [0.5256297 , 0.2       , 0.12044392, 0.60215054],\n",
       "       [0.20923553, 0.2       , 0.24265938, 0.18599244],\n",
       "       [0.32081308, 0.4       , 0.16962503, 0.1623559 ],\n",
       "       [0.21188688, 0.2       , 0.23985862, 0.1894798 ],\n",
       "       [0.33627928, 0.2       , 0.19028405, 0.35309503],\n",
       "       [0.21939903, 0.2       , 0.17519912, 0.19936065],\n",
       "       [0.22867875, 0.2       , 0.33151638, 0.21156641],\n",
       "       [0.29209015, 0.4       , 0.28472957, 0.13716943],\n",
       "       [0.40897039, 0.2       , 0.21640743, 0.44870677],\n",
       "       [0.63278833, 0.6       , 0.15750983, 0.28233072],\n",
       "       [0.3857711 , 0.6       , 0.23595244, 0.11987794],\n",
       "       [0.22867875, 0.2       , 0.1327216 , 0.21156641],\n",
       "       [0.32567388, 0.6       , 0.14191163, 0.08035455],\n",
       "       [0.25872735, 0.2       , 0.27108139, 0.2510898 ],\n",
       "       [0.5735749 , 0.4       , 0.24942518, 0.3839969 ],\n",
       "       [0.21254971, 0.2       , 0.18076933, 0.19035164],\n",
       "       [0.33561644, 0.2       , 0.21097542, 0.35222319],\n",
       "       [0.24304021, 0.2       , 0.21052834, 0.23045626],\n",
       "       [0.22293416, 0.2       , 0.25689449, 0.20401046],\n",
       "       [0.18051259, 0.2       , 0.1792564 , 0.14821273],\n",
       "       [0.29164825, 0.2       , 0.17491882, 0.29439117],\n",
       "       [0.46840477, 0.2       , 0.07114828, 0.52688172],\n",
       "       [0.29562528, 0.2       , 0.16972388, 0.2996222 ],\n",
       "       [0.28524083, 0.4       , 0.22542615, 0.13116342],\n",
       "       [0.16040654, 0.4       , 0.18678771, 0.02169912],\n",
       "       [0.21409633, 0.2       , 0.20620331, 0.19238593],\n",
       "       [0.47812638, 0.2       , 0.29806748, 0.5396687 ],\n",
       "       [0.29253204, 0.4       , 0.1289242 , 0.13755691],\n",
       "       [0.55413168, 0.8       , 0.10513279, 0.14879396],\n",
       "       [0.28457799, 0.2       , 0.13302627, 0.28509154],\n",
       "       [0.0992046 , 0.2       , 0.22948943, 0.04126707],\n",
       "       [0.99867433, 0.6       , 0.15382378, 0.52295844],\n",
       "       [0.46266019, 0.6       , 0.07063883, 0.17044464],\n",
       "       [0.20746796, 0.2       , 0.12560583, 0.18366754],\n",
       "       [0.1674768 , 0.2       , 0.15592988, 0.13106655],\n",
       "       [0.09235528, 0.        , 0.15161091, 0.24295263],\n",
       "       [0.51966416, 0.4       , 0.13725307, 0.33672382],\n",
       "       [0.30755634, 0.2       , 0.03528733, 0.31531532],\n",
       "       [0.22558551, 0.2       , 0.25074769, 0.20749782],\n",
       "       [0.12041538, 0.2       , 0.20463823, 0.06916594],\n",
       "       [0.16062749, 0.4       , 0.18512259, 0.02189286],\n",
       "       [0.33605833, 0.2       , 0.27149611, 0.35280442],\n",
       "       [0.65908087, 0.2       , 0.08728347, 0.77768091],\n",
       "       [0.25983208, 0.2       , 0.24900173, 0.25254287],\n",
       "       [0.        , 0.        , 0.42995685, 0.        ],\n",
       "       [0.39438798, 0.2       , 0.23623679, 0.4295263 ],\n",
       "       [0.17012815, 0.2       , 0.14947549, 0.13455391],\n",
       "       [0.12593902, 0.2       , 0.28517879, 0.07643127],\n",
       "       [0.52607159, 0.6       , 0.11921224, 0.21214763],\n",
       "       [0.3146266 , 0.2       , 0.24685857, 0.32461494],\n",
       "       [0.39085285, 0.2       , 0.10710087, 0.42487649]])"
      ]
     },
     "execution_count": 27,
     "metadata": {},
     "output_type": "execute_result"
    }
   ],
   "source": [
    "X_train_scaled\n"
   ]
  },
  {
   "cell_type": "code",
   "execution_count": 28,
   "id": "185eaf96",
   "metadata": {},
   "outputs": [],
   "source": [
    "k = 2"
   ]
  },
  {
   "cell_type": "code",
   "execution_count": 29,
   "id": "03a69309",
   "metadata": {},
   "outputs": [
    {
     "name": "stdout",
     "output_type": "stream",
     "text": [
      "['total_bill', 'number_of_people']\n"
     ]
    }
   ],
   "source": [
    "# Select K Best\n",
    "\n",
    "kbest = sklearn.feature_selection.SelectKBest(sklearn.feature_selection.f_regression, k=2)\n",
    "\n",
    "kbest.fit(X_train, y_train)\n",
    "\n",
    "kbest_features = X_train.columns[kbest.get_support()].tolist()\n",
    "\n",
    "print(kbest_features)\n"
   ]
  },
  {
   "cell_type": "markdown",
   "id": "4176dab2",
   "metadata": {},
   "source": [
    "e. Use select k best and recursive feature elimination to select the top 2 features for predicting tip percentage. What are they?"
   ]
  },
  {
   "cell_type": "code",
   "execution_count": 30,
   "id": "ae629291",
   "metadata": {},
   "outputs": [
    {
     "data": {
      "text/plain": [
       "['number_of_people', 'tip_percentage']"
      ]
     },
     "execution_count": 30,
     "metadata": {},
     "output_type": "execute_result"
    }
   ],
   "source": [
    "lm = sklearn.linear_model.LinearRegression()\n",
    "rfe = sklearn.feature_selection.RFE(lm, n_features_to_select=2)\n",
    "\n",
    "rfe.fit(X_train, y_train)\n",
    "\n",
    "rfe_columns = X_train.columns[rfe.support_].tolist()\n",
    "rfe_columns\n"
   ]
  },
  {
   "cell_type": "markdown",
   "id": "e6c2153c",
   "metadata": {},
   "source": [
    "f. Why do you think select k best and recursive feature elimination might give different answers for the top features? Does this change as you change the number of features your are selecting?"
   ]
  },
  {
   "cell_type": "code",
   "execution_count": null,
   "id": "63d1f82f",
   "metadata": {},
   "outputs": [],
   "source": []
  },
  {
   "cell_type": "markdown",
   "id": "a8d4e6b1",
   "metadata": {},
   "source": [
    "2. Write a function named <code>select_kbest</code> that takes in the predictors (X), the target (y), and the number of features to select (k) and returns the names of the top k selected features based on the <code>SelectKBest</code> class. Test your function with the <code>tips</code> dataset. You should see the same results as when you did the process manually."
   ]
  },
  {
   "cell_type": "code",
   "execution_count": 31,
   "id": "a75c06b8",
   "metadata": {},
   "outputs": [
    {
     "data": {
      "text/plain": [
       "['total_bill', 'number_of_people']"
      ]
     },
     "execution_count": 31,
     "metadata": {},
     "output_type": "execute_result"
    }
   ],
   "source": [
    "def select_kbest(X, y, k):\n",
    "    kbest = sklearn.feature_selection.SelectKBest(sklearn.feature_selection.f_regression, k=k)\n",
    "    kbest.fit(X, y)\n",
    "    return X.columns[kbest.get_support()].tolist()\n",
    "\n",
    "select_kbest(X_train, y_train, 2)"
   ]
  },
  {
   "cell_type": "markdown",
   "id": "74829856",
   "metadata": {},
   "source": [
    "3. Write a function named <code>rfe</code> that takes in the predictors, the target, and the number of features to select. It should return the top k features based on the <code>RFE</code> class. Test your function with the <code>tips</code> dataset. You should see the same results as when you did the process manually."
   ]
  },
  {
   "cell_type": "code",
   "execution_count": 32,
   "id": "215f88cd",
   "metadata": {},
   "outputs": [],
   "source": [
    "def show_features_rankings(X_train, rfe):\n",
    "    \"\"\"\n",
    "    Takes in a dataframe and a fit RFE object in order to output the rank of all features\n",
    "    \"\"\"\n",
    "    # rfe here is reference rfe from cell 15\n",
    "    var_ranks = rfe.ranking_\n",
    "    var_names = X_train.columns.tolist()\n",
    "    ranks = pd.DataFrame({'Var': var_names, 'Rank': var_ranks})\n",
    "    ranks = ranks.sort_values(by=\"Rank\", ascending=True)\n",
    "    return ranks"
   ]
  },
  {
   "cell_type": "code",
   "execution_count": 33,
   "id": "cd47e94d",
   "metadata": {},
   "outputs": [],
   "source": [
    "def select_rfe(predictors, target, k):\n",
    "    # make the thing\n",
    "    lm = sklearn.linear_model.LinearRegression()\n",
    "    rfe = sklearn.feature_selection.RFE(lm, n_features_to_select=k)\n",
    "\n",
    "    # Fit the thing\n",
    "    rfe.fit(predictors, target)\n",
    "    \n",
    "    # use the thing\n",
    "    features_to_use = predictors.columns[rfe.support_].tolist()\n",
    "    \n",
    "    # we need to send show_feature_rankings a trained/fit RFE object\n",
    "    all_rankings = show_features_rankings(predictors, rfe)\n",
    "    \n",
    "    return features_to_use, all_rankings"
   ]
  },
  {
   "cell_type": "code",
   "execution_count": 34,
   "id": "84791042",
   "metadata": {},
   "outputs": [
    {
     "data": {
      "text/plain": [
       "(['number_of_people', 'tip_percentage'],\n",
       "                 Var  Rank\n",
       " 1  number_of_people     1\n",
       " 2    tip_percentage     1\n",
       " 0        total_bill     2\n",
       " 3  price_per_person     3)"
      ]
     },
     "execution_count": 34,
     "metadata": {},
     "output_type": "execute_result"
    }
   ],
   "source": [
    "select_rfe(X_train, y_train, 2)"
   ]
  },
  {
   "cell_type": "markdown",
   "id": "ed5efc53",
   "metadata": {},
   "source": [
    "4. Load the <code>swiss</code> dataset and use all the other features to predict Fertility. Find the top 3 features using both select k best and recursive feature elimination (use the functions you just built to help you out)."
   ]
  },
  {
   "cell_type": "code",
   "execution_count": 35,
   "id": "5bdd4cd5",
   "metadata": {},
   "outputs": [
    {
     "data": {
      "text/html": [
       "<div>\n",
       "<style scoped>\n",
       "    .dataframe tbody tr th:only-of-type {\n",
       "        vertical-align: middle;\n",
       "    }\n",
       "\n",
       "    .dataframe tbody tr th {\n",
       "        vertical-align: top;\n",
       "    }\n",
       "\n",
       "    .dataframe thead th {\n",
       "        text-align: right;\n",
       "    }\n",
       "</style>\n",
       "<table border=\"1\" class=\"dataframe\">\n",
       "  <thead>\n",
       "    <tr style=\"text-align: right;\">\n",
       "      <th></th>\n",
       "      <th>Fertility</th>\n",
       "      <th>Agriculture</th>\n",
       "      <th>Examination</th>\n",
       "      <th>Education</th>\n",
       "      <th>Catholic</th>\n",
       "      <th>Infant.Mortality</th>\n",
       "    </tr>\n",
       "  </thead>\n",
       "  <tbody>\n",
       "    <tr>\n",
       "      <th>Courtelary</th>\n",
       "      <td>80.2</td>\n",
       "      <td>17.0</td>\n",
       "      <td>15</td>\n",
       "      <td>12</td>\n",
       "      <td>9.96</td>\n",
       "      <td>22.2</td>\n",
       "    </tr>\n",
       "    <tr>\n",
       "      <th>Delemont</th>\n",
       "      <td>83.1</td>\n",
       "      <td>45.1</td>\n",
       "      <td>6</td>\n",
       "      <td>9</td>\n",
       "      <td>84.84</td>\n",
       "      <td>22.2</td>\n",
       "    </tr>\n",
       "    <tr>\n",
       "      <th>Franches-Mnt</th>\n",
       "      <td>92.5</td>\n",
       "      <td>39.7</td>\n",
       "      <td>5</td>\n",
       "      <td>5</td>\n",
       "      <td>93.40</td>\n",
       "      <td>20.2</td>\n",
       "    </tr>\n",
       "    <tr>\n",
       "      <th>Moutier</th>\n",
       "      <td>85.8</td>\n",
       "      <td>36.5</td>\n",
       "      <td>12</td>\n",
       "      <td>7</td>\n",
       "      <td>33.77</td>\n",
       "      <td>20.3</td>\n",
       "    </tr>\n",
       "    <tr>\n",
       "      <th>Neuveville</th>\n",
       "      <td>76.9</td>\n",
       "      <td>43.5</td>\n",
       "      <td>17</td>\n",
       "      <td>15</td>\n",
       "      <td>5.16</td>\n",
       "      <td>20.6</td>\n",
       "    </tr>\n",
       "  </tbody>\n",
       "</table>\n",
       "</div>"
      ],
      "text/plain": [
       "              Fertility  Agriculture  Examination  Education  Catholic  \\\n",
       "Courtelary         80.2         17.0           15         12      9.96   \n",
       "Delemont           83.1         45.1            6          9     84.84   \n",
       "Franches-Mnt       92.5         39.7            5          5     93.40   \n",
       "Moutier            85.8         36.5           12          7     33.77   \n",
       "Neuveville         76.9         43.5           17         15      5.16   \n",
       "\n",
       "              Infant.Mortality  \n",
       "Courtelary                22.2  \n",
       "Delemont                  22.2  \n",
       "Franches-Mnt              20.2  \n",
       "Moutier                   20.3  \n",
       "Neuveville                20.6  "
      ]
     },
     "execution_count": 35,
     "metadata": {},
     "output_type": "execute_result"
    }
   ],
   "source": [
    "swiss = data('swiss')\n",
    "swiss.head()"
   ]
  },
  {
   "cell_type": "code",
   "execution_count": 36,
   "id": "8ab69d59",
   "metadata": {},
   "outputs": [],
   "source": [
    "train, validate, test = split(swiss)\n"
   ]
  },
  {
   "cell_type": "code",
   "execution_count": 37,
   "id": "2a8534c9",
   "metadata": {},
   "outputs": [],
   "source": [
    "X_train = train.drop(columns='Fertility')\n",
    "y_train = train.Fertility\n",
    "\n",
    "X_validate = validate.drop(columns='Fertility')\n",
    "y_validate = validate.Fertility\n",
    "\n",
    "X_test = test.drop(columns='Fertility')\n",
    "y_test = test.Fertility"
   ]
  },
  {
   "cell_type": "code",
   "execution_count": 45,
   "id": "10c6f78f",
   "metadata": {},
   "outputs": [],
   "source": [
    "scaler = sklearn.preprocessing.MinMaxScaler()\n",
    "scaler.fit(X_train)\n",
    "X_train_scaled = pd.DataFrame(scaler.transform(X_train), columns=X_train.columns)\n",
    "X_validate_scaled = pd.DataFrame(scaler.transform(X_validate), columns=X_validate.columns)\n",
    "X_test_scaled = pd.DataFrame(scaler.transform(X_test), columns=X_test.columns)"
   ]
  },
  {
   "cell_type": "code",
   "execution_count": 46,
   "id": "ac6bf250",
   "metadata": {},
   "outputs": [
    {
     "data": {
      "text/html": [
       "<div>\n",
       "<style scoped>\n",
       "    .dataframe tbody tr th:only-of-type {\n",
       "        vertical-align: middle;\n",
       "    }\n",
       "\n",
       "    .dataframe tbody tr th {\n",
       "        vertical-align: top;\n",
       "    }\n",
       "\n",
       "    .dataframe thead th {\n",
       "        text-align: right;\n",
       "    }\n",
       "</style>\n",
       "<table border=\"1\" class=\"dataframe\">\n",
       "  <thead>\n",
       "    <tr style=\"text-align: right;\">\n",
       "      <th></th>\n",
       "      <th>Agriculture</th>\n",
       "      <th>Examination</th>\n",
       "      <th>Education</th>\n",
       "      <th>Catholic</th>\n",
       "      <th>Infant.Mortality</th>\n",
       "    </tr>\n",
       "  </thead>\n",
       "  <tbody>\n",
       "    <tr>\n",
       "      <th>0</th>\n",
       "      <td>0.647561</td>\n",
       "      <td>0.40625</td>\n",
       "      <td>0.290323</td>\n",
       "      <td>0.054508</td>\n",
       "      <td>0.122449</td>\n",
       "    </tr>\n",
       "    <tr>\n",
       "      <th>1</th>\n",
       "      <td>0.796341</td>\n",
       "      <td>0.50000</td>\n",
       "      <td>0.258065</td>\n",
       "      <td>0.004508</td>\n",
       "      <td>0.500000</td>\n",
       "    </tr>\n",
       "    <tr>\n",
       "      <th>2</th>\n",
       "      <td>0.526829</td>\n",
       "      <td>0.59375</td>\n",
       "      <td>0.354839</td>\n",
       "      <td>0.130533</td>\n",
       "      <td>0.163265</td>\n",
       "    </tr>\n",
       "    <tr>\n",
       "      <th>3</th>\n",
       "      <td>0.953659</td>\n",
       "      <td>0.00000</td>\n",
       "      <td>0.032258</td>\n",
       "      <td>0.997029</td>\n",
       "      <td>0.000000</td>\n",
       "    </tr>\n",
       "    <tr>\n",
       "      <th>4</th>\n",
       "      <td>0.509756</td>\n",
       "      <td>0.37500</td>\n",
       "      <td>0.225806</td>\n",
       "      <td>0.037910</td>\n",
       "      <td>0.755102</td>\n",
       "    </tr>\n",
       "  </tbody>\n",
       "</table>\n",
       "</div>"
      ],
      "text/plain": [
       "   Agriculture  Examination  Education  Catholic  Infant.Mortality\n",
       "0     0.647561      0.40625   0.290323  0.054508          0.122449\n",
       "1     0.796341      0.50000   0.258065  0.004508          0.500000\n",
       "2     0.526829      0.59375   0.354839  0.130533          0.163265\n",
       "3     0.953659      0.00000   0.032258  0.997029          0.000000\n",
       "4     0.509756      0.37500   0.225806  0.037910          0.755102"
      ]
     },
     "execution_count": 46,
     "metadata": {},
     "output_type": "execute_result"
    }
   ],
   "source": [
    "X_train_scaled.head()"
   ]
  },
  {
   "cell_type": "code",
   "execution_count": 47,
   "metadata": {},
   "outputs": [
    {
     "data": {
      "text/html": [
       "<div>\n",
       "<style scoped>\n",
       "    .dataframe tbody tr th:only-of-type {\n",
       "        vertical-align: middle;\n",
       "    }\n",
       "\n",
       "    .dataframe tbody tr th {\n",
       "        vertical-align: top;\n",
       "    }\n",
       "\n",
       "    .dataframe thead th {\n",
       "        text-align: right;\n",
       "    }\n",
       "</style>\n",
       "<table border=\"1\" class=\"dataframe\">\n",
       "  <thead>\n",
       "    <tr style=\"text-align: right;\">\n",
       "      <th></th>\n",
       "      <th>Agriculture</th>\n",
       "      <th>Examination</th>\n",
       "      <th>Education</th>\n",
       "      <th>Catholic</th>\n",
       "      <th>Infant.Mortality</th>\n",
       "    </tr>\n",
       "  </thead>\n",
       "  <tbody>\n",
       "    <tr>\n",
       "      <th>0</th>\n",
       "      <td>0.578049</td>\n",
       "      <td>0.34375</td>\n",
       "      <td>0.064516</td>\n",
       "      <td>0.021721</td>\n",
       "      <td>0.744898</td>\n",
       "    </tr>\n",
       "    <tr>\n",
       "      <th>1</th>\n",
       "      <td>0.791463</td>\n",
       "      <td>0.46875</td>\n",
       "      <td>0.032258</td>\n",
       "      <td>0.223361</td>\n",
       "      <td>0.622449</td>\n",
       "    </tr>\n",
       "    <tr>\n",
       "      <th>2</th>\n",
       "      <td>0.351220</td>\n",
       "      <td>0.28125</td>\n",
       "      <td>0.193548</td>\n",
       "      <td>0.321414</td>\n",
       "      <td>0.530612</td>\n",
       "    </tr>\n",
       "    <tr>\n",
       "      <th>3</th>\n",
       "      <td>0.635366</td>\n",
       "      <td>0.59375</td>\n",
       "      <td>0.290323</td>\n",
       "      <td>0.028996</td>\n",
       "      <td>0.295918</td>\n",
       "    </tr>\n",
       "    <tr>\n",
       "      <th>4</th>\n",
       "      <td>0.937805</td>\n",
       "      <td>0.00000</td>\n",
       "      <td>0.064516</td>\n",
       "      <td>0.994467</td>\n",
       "      <td>0.122449</td>\n",
       "    </tr>\n",
       "  </tbody>\n",
       "</table>\n",
       "</div>"
      ],
      "text/plain": [
       "   Agriculture  Examination  Education  Catholic  Infant.Mortality\n",
       "0     0.578049      0.34375   0.064516  0.021721          0.744898\n",
       "1     0.791463      0.46875   0.032258  0.223361          0.622449\n",
       "2     0.351220      0.28125   0.193548  0.321414          0.530612\n",
       "3     0.635366      0.59375   0.290323  0.028996          0.295918\n",
       "4     0.937805      0.00000   0.064516  0.994467          0.122449"
      ]
     },
     "execution_count": 47,
     "metadata": {},
     "output_type": "execute_result"
    }
   ],
   "source": [
    "X_validate_scaled.head()"
   ]
  },
  {
   "cell_type": "code",
   "execution_count": 48,
   "id": "a9731c7e",
   "metadata": {},
   "outputs": [
    {
     "data": {
      "text/html": [
       "<div>\n",
       "<style scoped>\n",
       "    .dataframe tbody tr th:only-of-type {\n",
       "        vertical-align: middle;\n",
       "    }\n",
       "\n",
       "    .dataframe tbody tr th {\n",
       "        vertical-align: top;\n",
       "    }\n",
       "\n",
       "    .dataframe thead th {\n",
       "        text-align: right;\n",
       "    }\n",
       "</style>\n",
       "<table border=\"1\" class=\"dataframe\">\n",
       "  <thead>\n",
       "    <tr style=\"text-align: right;\">\n",
       "      <th></th>\n",
       "      <th>Agriculture</th>\n",
       "      <th>Examination</th>\n",
       "      <th>Education</th>\n",
       "      <th>Catholic</th>\n",
       "      <th>Infant.Mortality</th>\n",
       "    </tr>\n",
       "  </thead>\n",
       "  <tbody>\n",
       "    <tr>\n",
       "      <th>0</th>\n",
       "      <td>0.556098</td>\n",
       "      <td>0.28125</td>\n",
       "      <td>0.193548</td>\n",
       "      <td>0.976127</td>\n",
       "      <td>0.602041</td>\n",
       "    </tr>\n",
       "    <tr>\n",
       "      <th>1</th>\n",
       "      <td>0.662195</td>\n",
       "      <td>0.56250</td>\n",
       "      <td>0.354839</td>\n",
       "      <td>0.062705</td>\n",
       "      <td>0.142857</td>\n",
       "    </tr>\n",
       "    <tr>\n",
       "      <th>2</th>\n",
       "      <td>-0.079268</td>\n",
       "      <td>1.06250</td>\n",
       "      <td>1.677419</td>\n",
       "      <td>0.409221</td>\n",
       "      <td>0.295918</td>\n",
       "    </tr>\n",
       "    <tr>\n",
       "      <th>3</th>\n",
       "      <td>0.091463</td>\n",
       "      <td>0.87500</td>\n",
       "      <td>0.612903</td>\n",
       "      <td>-0.002561</td>\n",
       "      <td>-0.438776</td>\n",
       "    </tr>\n",
       "    <tr>\n",
       "      <th>4</th>\n",
       "      <td>0.134146</td>\n",
       "      <td>0.68750</td>\n",
       "      <td>0.193548</td>\n",
       "      <td>0.064037</td>\n",
       "      <td>0.448980</td>\n",
       "    </tr>\n",
       "  </tbody>\n",
       "</table>\n",
       "</div>"
      ],
      "text/plain": [
       "   Agriculture  Examination  Education  Catholic  Infant.Mortality\n",
       "0     0.556098      0.28125   0.193548  0.976127          0.602041\n",
       "1     0.662195      0.56250   0.354839  0.062705          0.142857\n",
       "2    -0.079268      1.06250   1.677419  0.409221          0.295918\n",
       "3     0.091463      0.87500   0.612903 -0.002561         -0.438776\n",
       "4     0.134146      0.68750   0.193548  0.064037          0.448980"
      ]
     },
     "execution_count": 48,
     "metadata": {},
     "output_type": "execute_result"
    }
   ],
   "source": [
    "X_test_scaled.head()"
   ]
  },
  {
   "cell_type": "code",
   "execution_count": 49,
   "id": "d588aa52",
   "metadata": {},
   "outputs": [
    {
     "name": "stdout",
     "output_type": "stream",
     "text": [
      "(25, 5)\n",
      "(12, 5)\n",
      "(10, 5)\n"
     ]
    }
   ],
   "source": [
    "print(X_train_scaled.shape)\n",
    "print(X_validate_scaled.shape)\n",
    "print(X_test_scaled.shape)"
   ]
  },
  {
   "cell_type": "code",
   "execution_count": 50,
   "id": "94e480f6",
   "metadata": {},
   "outputs": [
    {
     "data": {
      "text/plain": [
       "['Examination', 'Catholic', 'Infant.Mortality']"
      ]
     },
     "execution_count": 50,
     "metadata": {},
     "output_type": "execute_result"
    }
   ],
   "source": [
    "select_kbest(X_train_scaled, y_train, 3)"
   ]
  },
  {
   "cell_type": "code",
   "execution_count": 51,
   "id": "15fc9499",
   "metadata": {},
   "outputs": [
    {
     "name": "stdout",
     "output_type": "stream",
     "text": [
      "['Agriculture', 'Examination', 'Infant.Mortality']\n"
     ]
    },
    {
     "data": {
      "text/html": [
       "<div>\n",
       "<style scoped>\n",
       "    .dataframe tbody tr th:only-of-type {\n",
       "        vertical-align: middle;\n",
       "    }\n",
       "\n",
       "    .dataframe tbody tr th {\n",
       "        vertical-align: top;\n",
       "    }\n",
       "\n",
       "    .dataframe thead th {\n",
       "        text-align: right;\n",
       "    }\n",
       "</style>\n",
       "<table border=\"1\" class=\"dataframe\">\n",
       "  <thead>\n",
       "    <tr style=\"text-align: right;\">\n",
       "      <th></th>\n",
       "      <th>Var</th>\n",
       "      <th>Rank</th>\n",
       "    </tr>\n",
       "  </thead>\n",
       "  <tbody>\n",
       "    <tr>\n",
       "      <th>0</th>\n",
       "      <td>Agriculture</td>\n",
       "      <td>1</td>\n",
       "    </tr>\n",
       "    <tr>\n",
       "      <th>1</th>\n",
       "      <td>Examination</td>\n",
       "      <td>1</td>\n",
       "    </tr>\n",
       "    <tr>\n",
       "      <th>4</th>\n",
       "      <td>Infant.Mortality</td>\n",
       "      <td>1</td>\n",
       "    </tr>\n",
       "    <tr>\n",
       "      <th>2</th>\n",
       "      <td>Education</td>\n",
       "      <td>2</td>\n",
       "    </tr>\n",
       "    <tr>\n",
       "      <th>3</th>\n",
       "      <td>Catholic</td>\n",
       "      <td>3</td>\n",
       "    </tr>\n",
       "  </tbody>\n",
       "</table>\n",
       "</div>"
      ],
      "text/plain": [
       "                Var  Rank\n",
       "0       Agriculture     1\n",
       "1       Examination     1\n",
       "4  Infant.Mortality     1\n",
       "2         Education     2\n",
       "3          Catholic     3"
      ]
     },
     "execution_count": 51,
     "metadata": {},
     "output_type": "execute_result"
    }
   ],
   "source": [
    "selected_features, all_rankings = select_rfe(X_train, y_train, 3)\n",
    "print(selected_features)\n",
    "all_rankings"
   ]
  }
 ],
 "metadata": {
  "kernelspec": {
   "display_name": "Python 3",
   "language": "python",
   "name": "python3"
  },
  "language_info": {
   "codemirror_mode": {
    "name": "ipython",
    "version": 3
   },
   "file_extension": ".py",
   "mimetype": "text/x-python",
   "name": "python",
   "nbconvert_exporter": "python",
   "pygments_lexer": "ipython3",
   "version": "3.8.8"
  }
 },
 "nbformat": 4,
 "nbformat_minor": 5
}
