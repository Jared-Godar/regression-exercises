{
 "cells": [
  {
   "cell_type": "code",
   "execution_count": 1,
   "id": "4dbe6c22",
   "metadata": {},
   "outputs": [],
   "source": [
    "import pandas as pd\n",
    "import matplotlib.pyplot as plt\n",
    "import seaborn as sns\n",
    "import numpy as np \n",
    "from env import host, user, password\n",
    "import zillo_wrangle"
   ]
  },
  {
   "cell_type": "code",
   "execution_count": 2,
   "id": "4a81c17c",
   "metadata": {},
   "outputs": [],
   "source": [
    "# function to contact database\n",
    "def get_db_url(db_name):\n",
    "    return f\"mysql+pymysql://{user}:{password}@{host}/{db_name}\""
   ]
  },
  {
   "cell_type": "code",
   "execution_count": 3,
   "id": "1f1152bb",
   "metadata": {},
   "outputs": [],
   "source": [
    "# function to query database and return zillow df\n",
    "def get_zillo():\n",
    "    query = \"\"\"\n",
    "    SELECT bedroomcnt as bedrooms, \n",
    "       bathroomcnt as bathrooms,\n",
    "       calculatedfinishedsquarefeet as square_feet,\n",
    "       taxvaluedollarcnt as home_value,\n",
    "       yearbuilt as year,\n",
    "\t   taxamount as taxes,\n",
    "       fips as fips_number\n",
    "    FROM predictions_2017\n",
    "    JOIN properties_2017 USING(id)\n",
    "    JOIN propertylandusetype USING(propertylandusetypeid)\n",
    "    WHERE #(transactiondate >= '2017-05-01' AND transactiondate <= '2017-06-30') \n",
    "        propertylandusetypeid = '261'\n",
    "        AND bedroomcnt > 0\n",
    "        AND bathroomcnt > 0\n",
    "        AND calculatedfinishedsquarefeet > 0 \n",
    "        AND taxamount > 0\n",
    "        AND taxvaluedollarcnt > 0\n",
    "        AND fips > 0\n",
    "    ORDER BY fips;\n",
    "    \"\"\"\n",
    "    df = pd.read_sql(query, get_db_url('zillow'))\n",
    "    return df"
   ]
  },
  {
   "cell_type": "code",
   "execution_count": 4,
   "id": "58be744a",
   "metadata": {},
   "outputs": [],
   "source": [
    "# function to clean up my zillow df\n",
    "def clean_data(df):\n",
    "    '''\n",
    "    This funciton takes in the zillow df and drops observations with Null values\n",
    "    and handles data types returning a df with a basic clean.\n",
    "    '''\n",
    "    df = df.dropna()\n",
    "    df['fips_number'] = df['fips_number'].astype(int)\n",
    "    df['square_feet'] = df['square_feet'].astype(int)\n",
    "    df['year'] = df['year'].astype(int)\n",
    "\n",
    "    return df"
   ]
  },
  {
   "cell_type": "code",
   "execution_count": 5,
   "id": "08f28477",
   "metadata": {},
   "outputs": [],
   "source": [
    "# composite\n",
    "def wrangle_zillow():\n",
    "    df = get_data_from_sql()\n",
    "    df = clean_data(df)\n",
    "    return df "
   ]
  },
  {
   "cell_type": "code",
   "execution_count": 6,
   "id": "a67b8357",
   "metadata": {},
   "outputs": [
    {
     "name": "stderr",
     "output_type": "stream",
     "text": [
      "/Users/jaredgodar/codeup-data-science/regression-exercises/zillo_wrangle.py:44: SettingWithCopyWarning: \n",
      "A value is trying to be set on a copy of a slice from a DataFrame.\n",
      "Try using .loc[row_indexer,col_indexer] = value instead\n",
      "\n",
      "See the caveats in the documentation: https://pandas.pydata.org/pandas-docs/stable/user_guide/indexing.html#returning-a-view-versus-a-copy\n",
      "  df['fips_number'] = df['fips_number'].astype(int)\n",
      "/Users/jaredgodar/codeup-data-science/regression-exercises/zillo_wrangle.py:45: SettingWithCopyWarning: \n",
      "A value is trying to be set on a copy of a slice from a DataFrame.\n",
      "Try using .loc[row_indexer,col_indexer] = value instead\n",
      "\n",
      "See the caveats in the documentation: https://pandas.pydata.org/pandas-docs/stable/user_guide/indexing.html#returning-a-view-versus-a-copy\n",
      "  df['square_feet'] = df['square_feet'].astype(int)\n",
      "/Users/jaredgodar/codeup-data-science/regression-exercises/zillo_wrangle.py:46: SettingWithCopyWarning: \n",
      "A value is trying to be set on a copy of a slice from a DataFrame.\n",
      "Try using .loc[row_indexer,col_indexer] = value instead\n",
      "\n",
      "See the caveats in the documentation: https://pandas.pydata.org/pandas-docs/stable/user_guide/indexing.html#returning-a-view-versus-a-copy\n",
      "  df['year'] = df['year'].astype(int)\n"
     ]
    }
   ],
   "source": [
    "zillo = zillo_wrangle.wrangle_zillow()"
   ]
  },
  {
   "cell_type": "code",
   "execution_count": 7,
   "id": "49e8441f",
   "metadata": {},
   "outputs": [
    {
     "data": {
      "text/html": [
       "<div>\n",
       "<style scoped>\n",
       "    .dataframe tbody tr th:only-of-type {\n",
       "        vertical-align: middle;\n",
       "    }\n",
       "\n",
       "    .dataframe tbody tr th {\n",
       "        vertical-align: top;\n",
       "    }\n",
       "\n",
       "    .dataframe thead th {\n",
       "        text-align: right;\n",
       "    }\n",
       "</style>\n",
       "<table border=\"1\" class=\"dataframe\">\n",
       "  <thead>\n",
       "    <tr style=\"text-align: right;\">\n",
       "      <th></th>\n",
       "      <th>count</th>\n",
       "      <th>mean</th>\n",
       "      <th>std</th>\n",
       "      <th>min</th>\n",
       "      <th>25%</th>\n",
       "      <th>50%</th>\n",
       "      <th>75%</th>\n",
       "      <th>max</th>\n",
       "    </tr>\n",
       "  </thead>\n",
       "  <tbody>\n",
       "    <tr>\n",
       "      <th>bedrooms</th>\n",
       "      <td>55588.0</td>\n",
       "      <td>3.311380</td>\n",
       "      <td>0.924005</td>\n",
       "      <td>1.00</td>\n",
       "      <td>3.000</td>\n",
       "      <td>3.000</td>\n",
       "      <td>4.00</td>\n",
       "      <td>25.00</td>\n",
       "    </tr>\n",
       "    <tr>\n",
       "      <th>bathrooms</th>\n",
       "      <td>55588.0</td>\n",
       "      <td>2.254884</td>\n",
       "      <td>0.992818</td>\n",
       "      <td>1.00</td>\n",
       "      <td>2.000</td>\n",
       "      <td>2.000</td>\n",
       "      <td>3.00</td>\n",
       "      <td>20.00</td>\n",
       "    </tr>\n",
       "    <tr>\n",
       "      <th>square_feet</th>\n",
       "      <td>55588.0</td>\n",
       "      <td>1870.208031</td>\n",
       "      <td>964.140876</td>\n",
       "      <td>320.00</td>\n",
       "      <td>1262.000</td>\n",
       "      <td>1631.000</td>\n",
       "      <td>2217.00</td>\n",
       "      <td>26345.00</td>\n",
       "    </tr>\n",
       "    <tr>\n",
       "      <th>home_value</th>\n",
       "      <td>55588.0</td>\n",
       "      <td>456879.285745</td>\n",
       "      <td>593725.070535</td>\n",
       "      <td>9762.00</td>\n",
       "      <td>188731.500</td>\n",
       "      <td>330507.000</td>\n",
       "      <td>534667.50</td>\n",
       "      <td>30166843.00</td>\n",
       "    </tr>\n",
       "    <tr>\n",
       "      <th>year</th>\n",
       "      <td>55588.0</td>\n",
       "      <td>1961.232496</td>\n",
       "      <td>21.959743</td>\n",
       "      <td>1862.00</td>\n",
       "      <td>1949.000</td>\n",
       "      <td>1958.000</td>\n",
       "      <td>1976.00</td>\n",
       "      <td>2016.00</td>\n",
       "    </tr>\n",
       "    <tr>\n",
       "      <th>taxes</th>\n",
       "      <td>55588.0</td>\n",
       "      <td>5566.992804</td>\n",
       "      <td>6827.036130</td>\n",
       "      <td>20.24</td>\n",
       "      <td>2539.715</td>\n",
       "      <td>4139.215</td>\n",
       "      <td>6415.89</td>\n",
       "      <td>342940.38</td>\n",
       "    </tr>\n",
       "    <tr>\n",
       "      <th>fips_number</th>\n",
       "      <td>55588.0</td>\n",
       "      <td>6048.770058</td>\n",
       "      <td>21.129554</td>\n",
       "      <td>6037.00</td>\n",
       "      <td>6037.000</td>\n",
       "      <td>6037.000</td>\n",
       "      <td>6059.00</td>\n",
       "      <td>6111.00</td>\n",
       "    </tr>\n",
       "  </tbody>\n",
       "</table>\n",
       "</div>"
      ],
      "text/plain": [
       "               count           mean            std      min         25%  \\\n",
       "bedrooms     55588.0       3.311380       0.924005     1.00       3.000   \n",
       "bathrooms    55588.0       2.254884       0.992818     1.00       2.000   \n",
       "square_feet  55588.0    1870.208031     964.140876   320.00    1262.000   \n",
       "home_value   55588.0  456879.285745  593725.070535  9762.00  188731.500   \n",
       "year         55588.0    1961.232496      21.959743  1862.00    1949.000   \n",
       "taxes        55588.0    5566.992804    6827.036130    20.24    2539.715   \n",
       "fips_number  55588.0    6048.770058      21.129554  6037.00    6037.000   \n",
       "\n",
       "                    50%        75%          max  \n",
       "bedrooms          3.000       4.00        25.00  \n",
       "bathrooms         2.000       3.00        20.00  \n",
       "square_feet    1631.000    2217.00     26345.00  \n",
       "home_value   330507.000  534667.50  30166843.00  \n",
       "year           1958.000    1976.00      2016.00  \n",
       "taxes          4139.215    6415.89    342940.38  \n",
       "fips_number    6037.000    6059.00      6111.00  "
      ]
     },
     "execution_count": 7,
     "metadata": {},
     "output_type": "execute_result"
    }
   ],
   "source": [
    "zillo.describe().T"
   ]
  },
  {
   "cell_type": "code",
   "execution_count": 8,
   "id": "e171f531",
   "metadata": {},
   "outputs": [
    {
     "data": {
      "text/plain": [
       "bedrooms       float64\n",
       "bathrooms      float64\n",
       "square_feet      int64\n",
       "home_value     float64\n",
       "year             int64\n",
       "taxes          float64\n",
       "fips_number      int64\n",
       "dtype: object"
      ]
     },
     "execution_count": 8,
     "metadata": {},
     "output_type": "execute_result"
    }
   ],
   "source": [
    "zillo.dtypes"
   ]
  },
  {
   "cell_type": "code",
   "execution_count": 9,
   "id": "4ab0f5e4",
   "metadata": {},
   "outputs": [
    {
     "data": {
      "text/plain": [
       "(55588, 7)"
      ]
     },
     "execution_count": 9,
     "metadata": {},
     "output_type": "execute_result"
    }
   ],
   "source": [
    "zillo.shape"
   ]
  },
  {
   "cell_type": "code",
   "execution_count": 10,
   "id": "df5a661f",
   "metadata": {},
   "outputs": [],
   "source": [
    "plt.rc('figure', figsize=(16, 8))\n",
    "\n",
    "plt.rc('font', size=14)"
   ]
  },
  {
   "cell_type": "code",
   "execution_count": null,
   "id": "a20c9c1b",
   "metadata": {},
   "outputs": [],
   "source": []
  }
 ],
 "metadata": {
  "kernelspec": {
   "display_name": "Python 3",
   "language": "python",
   "name": "python3"
  },
  "language_info": {
   "codemirror_mode": {
    "name": "ipython",
    "version": 3
   },
   "file_extension": ".py",
   "mimetype": "text/x-python",
   "name": "python",
   "nbconvert_exporter": "python",
   "pygments_lexer": "ipython3",
   "version": "3.8.8"
  }
 },
 "nbformat": 4,
 "nbformat_minor": 5
}
